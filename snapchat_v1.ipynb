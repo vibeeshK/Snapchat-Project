{
  "cells": [
    {
      "cell_type": "markdown",
      "metadata": {
        "id": "view-in-github",
        "colab_type": "text"
      },
      "source": [
        "<a href=\"https://colab.research.google.com/github/vibeeshK/Snapchat-Project/blob/main/snapchat_v1.ipynb\" target=\"_parent\"><img src=\"https://colab.research.google.com/assets/colab-badge.svg\" alt=\"Open In Colab\"/></a>"
      ]
    },
    {
      "cell_type": "markdown",
      "source": [
        "# **Snapchat Usage Analysis**\n",
        "- Vibeesh Kamalakannan, Rasa Blourtchi, Raghav Arora"
      ],
      "metadata": {
        "id": "qvJysHFqFjlm"
      }
    },
    {
      "cell_type": "markdown",
      "source": [
        "# **Introduction**\n",
        "Our project focuses on analyzing daily user data from Snapchat for the years 2019 and 2020 in Norway, Denmark, and Sweden. All three countries, Norway, Sweden, and Denmark, implemented their first set of COVID-19 restrictions in March 2020, with measures introduced in the middle of the month.\n",
        "\n",
        "The aim of our first task was to predict the average Snapchat usage during the last 10 days of the first quarter of 2020, taking into account the anomaly caused by the COVID-19 lockdown. To achieve this, we implemented an ARIMA model with an order of (1,1,1) that eliminates seasonality and yearly trends. By incorporating this model, we were able to make accurate predictions that account for the impact of the lockdown on Snapchat usage. We remove trends because we are trying to find the average usage throughout the quarter and not the daily trend.\n",
        "\n",
        "Our next task was to predict the average Snapchat usage during the second quarter of 2020. To accomplish this, we utilized the same ARIMA model as before, but this time we trained it on data from weekends and holidays from 2019, December 2019, and the first quarter of 2020. Additionally, we incorporated our predictions from the first task to refine our predictions further. \n",
        "\n",
        "**Why 'APP_APPLICATION_OPEN_UU' is the best metric to track:**\n",
        "The number of unique users using an app in a day is a good metric to track because it provides an indication of the popularity and reach of the app.The number of unique users can provide insight into how many people are actively using the app on a given day, which can be an indicator of user engagement. The more users engage with the app, the more likely they are to continue using it and recommending it to others. Additionally, Tracking the number of unique users over time can help app developers understand how the app is growing in popularity. An increase in the number of unique users over time suggests that the app is gaining more traction among users."
      ],
      "metadata": {
        "id": "akhLv9F9UwRG"
      }
    },
    {
      "cell_type": "markdown",
      "source": [
        "**Import Libraries**"
      ],
      "metadata": {
        "id": "5qAfx2sBqSdP"
      }
    },
    {
      "cell_type": "code",
      "execution_count": 141,
      "metadata": {
        "id": "9iPAQEQxPiti"
      },
      "outputs": [],
      "source": [
        "import pandas as pd\n",
        "import datetime\n",
        "from statsmodels.tsa.arima.model import ARIMA\n",
        "import warnings\n",
        "import matplotlib.pyplot as plt\n",
        "from datetime import date, timedelta\n",
        "import matplotlib.ticker as ticker\n",
        "from datetime import date, timedelta\n",
        "from statistics import mean\n",
        "warnings.filterwarnings(\"ignore\")"
      ]
    },
    {
      "cell_type": "code",
      "execution_count": 142,
      "metadata": {
        "id": "ycNlyvj9Pito"
      },
      "outputs": [],
      "source": [
        "data = pd.read_csv('snap.csv')  "
      ]
    },
    {
      "cell_type": "markdown",
      "metadata": {
        "id": "HP18yetBPitp"
      },
      "source": [
        "**Feature Engineering: Day of the week:**"
      ]
    },
    {
      "cell_type": "code",
      "execution_count": 143,
      "metadata": {
        "colab": {
          "base_uri": "https://localhost:8080/",
          "height": 206
        },
        "id": "5NjGqJvgPitr",
        "outputId": "7a5f3069-69c5-455b-afc2-86c2c9213c49"
      },
      "outputs": [
        {
          "output_type": "execute_result",
          "data": {
            "text/plain": [
              "   event_date  APP_APPLICATION_OPEN_UU\n",
              "0  01-01-2019                  7012787\n",
              "1  01-01-2020                  7378613\n",
              "2  01-02-2019                  6522305\n",
              "3  01-02-2020                  6817444\n",
              "4  01-03-2019                  6457837"
            ],
            "text/html": [
              "\n",
              "  <div id=\"df-630dbf27-6847-4d9b-88c4-13377366938c\">\n",
              "    <div class=\"colab-df-container\">\n",
              "      <div>\n",
              "<style scoped>\n",
              "    .dataframe tbody tr th:only-of-type {\n",
              "        vertical-align: middle;\n",
              "    }\n",
              "\n",
              "    .dataframe tbody tr th {\n",
              "        vertical-align: top;\n",
              "    }\n",
              "\n",
              "    .dataframe thead th {\n",
              "        text-align: right;\n",
              "    }\n",
              "</style>\n",
              "<table border=\"1\" class=\"dataframe\">\n",
              "  <thead>\n",
              "    <tr style=\"text-align: right;\">\n",
              "      <th></th>\n",
              "      <th>event_date</th>\n",
              "      <th>APP_APPLICATION_OPEN_UU</th>\n",
              "    </tr>\n",
              "  </thead>\n",
              "  <tbody>\n",
              "    <tr>\n",
              "      <th>0</th>\n",
              "      <td>01-01-2019</td>\n",
              "      <td>7012787</td>\n",
              "    </tr>\n",
              "    <tr>\n",
              "      <th>1</th>\n",
              "      <td>01-01-2020</td>\n",
              "      <td>7378613</td>\n",
              "    </tr>\n",
              "    <tr>\n",
              "      <th>2</th>\n",
              "      <td>01-02-2019</td>\n",
              "      <td>6522305</td>\n",
              "    </tr>\n",
              "    <tr>\n",
              "      <th>3</th>\n",
              "      <td>01-02-2020</td>\n",
              "      <td>6817444</td>\n",
              "    </tr>\n",
              "    <tr>\n",
              "      <th>4</th>\n",
              "      <td>01-03-2019</td>\n",
              "      <td>6457837</td>\n",
              "    </tr>\n",
              "  </tbody>\n",
              "</table>\n",
              "</div>\n",
              "      <button class=\"colab-df-convert\" onclick=\"convertToInteractive('df-630dbf27-6847-4d9b-88c4-13377366938c')\"\n",
              "              title=\"Convert this dataframe to an interactive table.\"\n",
              "              style=\"display:none;\">\n",
              "        \n",
              "  <svg xmlns=\"http://www.w3.org/2000/svg\" height=\"24px\"viewBox=\"0 0 24 24\"\n",
              "       width=\"24px\">\n",
              "    <path d=\"M0 0h24v24H0V0z\" fill=\"none\"/>\n",
              "    <path d=\"M18.56 5.44l.94 2.06.94-2.06 2.06-.94-2.06-.94-.94-2.06-.94 2.06-2.06.94zm-11 1L8.5 8.5l.94-2.06 2.06-.94-2.06-.94L8.5 2.5l-.94 2.06-2.06.94zm10 10l.94 2.06.94-2.06 2.06-.94-2.06-.94-.94-2.06-.94 2.06-2.06.94z\"/><path d=\"M17.41 7.96l-1.37-1.37c-.4-.4-.92-.59-1.43-.59-.52 0-1.04.2-1.43.59L10.3 9.45l-7.72 7.72c-.78.78-.78 2.05 0 2.83L4 21.41c.39.39.9.59 1.41.59.51 0 1.02-.2 1.41-.59l7.78-7.78 2.81-2.81c.8-.78.8-2.07 0-2.86zM5.41 20L4 18.59l7.72-7.72 1.47 1.35L5.41 20z\"/>\n",
              "  </svg>\n",
              "      </button>\n",
              "      \n",
              "  <style>\n",
              "    .colab-df-container {\n",
              "      display:flex;\n",
              "      flex-wrap:wrap;\n",
              "      gap: 12px;\n",
              "    }\n",
              "\n",
              "    .colab-df-convert {\n",
              "      background-color: #E8F0FE;\n",
              "      border: none;\n",
              "      border-radius: 50%;\n",
              "      cursor: pointer;\n",
              "      display: none;\n",
              "      fill: #1967D2;\n",
              "      height: 32px;\n",
              "      padding: 0 0 0 0;\n",
              "      width: 32px;\n",
              "    }\n",
              "\n",
              "    .colab-df-convert:hover {\n",
              "      background-color: #E2EBFA;\n",
              "      box-shadow: 0px 1px 2px rgba(60, 64, 67, 0.3), 0px 1px 3px 1px rgba(60, 64, 67, 0.15);\n",
              "      fill: #174EA6;\n",
              "    }\n",
              "\n",
              "    [theme=dark] .colab-df-convert {\n",
              "      background-color: #3B4455;\n",
              "      fill: #D2E3FC;\n",
              "    }\n",
              "\n",
              "    [theme=dark] .colab-df-convert:hover {\n",
              "      background-color: #434B5C;\n",
              "      box-shadow: 0px 1px 3px 1px rgba(0, 0, 0, 0.15);\n",
              "      filter: drop-shadow(0px 1px 2px rgba(0, 0, 0, 0.3));\n",
              "      fill: #FFFFFF;\n",
              "    }\n",
              "  </style>\n",
              "\n",
              "      <script>\n",
              "        const buttonEl =\n",
              "          document.querySelector('#df-630dbf27-6847-4d9b-88c4-13377366938c button.colab-df-convert');\n",
              "        buttonEl.style.display =\n",
              "          google.colab.kernel.accessAllowed ? 'block' : 'none';\n",
              "\n",
              "        async function convertToInteractive(key) {\n",
              "          const element = document.querySelector('#df-630dbf27-6847-4d9b-88c4-13377366938c');\n",
              "          const dataTable =\n",
              "            await google.colab.kernel.invokeFunction('convertToInteractive',\n",
              "                                                     [key], {});\n",
              "          if (!dataTable) return;\n",
              "\n",
              "          const docLinkHtml = 'Like what you see? Visit the ' +\n",
              "            '<a target=\"_blank\" href=https://colab.research.google.com/notebooks/data_table.ipynb>data table notebook</a>'\n",
              "            + ' to learn more about interactive tables.';\n",
              "          element.innerHTML = '';\n",
              "          dataTable['output_type'] = 'display_data';\n",
              "          await google.colab.output.renderOutput(dataTable, element);\n",
              "          const docLink = document.createElement('div');\n",
              "          docLink.innerHTML = docLinkHtml;\n",
              "          element.appendChild(docLink);\n",
              "        }\n",
              "      </script>\n",
              "    </div>\n",
              "  </div>\n",
              "  "
            ]
          },
          "metadata": {},
          "execution_count": 143
        }
      ],
      "source": [
        "from datetime import datetime\n",
        "\n",
        "def get_day_of_week(date_str):\n",
        "    date_formats = [\"%m/%d/%y\", \"%m-%d-%y\", \"%m-%d-%Y\", \"%m/%d/%Y\"]\n",
        "    for date_format in date_formats:\n",
        "        try:\n",
        "            date_obj = datetime.strptime(date_str, date_format)\n",
        "            break \n",
        "        except ValueError:\n",
        "            pass \n",
        "    else:\n",
        "        raise ValueError(f\"Invalid date string: {date_str}\")\n",
        "\n",
        "    day_of_week = date_obj.weekday()\n",
        "    days = [\"Monday\", \"Tuesday\", \"Wednesday\", \"Thursday\", \"Friday\", \"Saturday\", \"Sunday\"]\n",
        "    day_of_week_str = days[day_of_week]\n",
        "\n",
        "    return (day_of_week_str)\n",
        "\n",
        "dates = []\n",
        "days = [] \n",
        "for i in data['event_date'].to_list():\n",
        "    days.append(get_day_of_week(i)[0])\n",
        "data['day'] = days\n",
        "data =data.groupby(by='event_date')['APP_APPLICATION_OPEN_UU'].sum().reset_index()\n",
        "data.head()"
      ]
    },
    {
      "cell_type": "markdown",
      "metadata": {
        "id": "2KjELTARPitu"
      },
      "source": [
        "# **Question 1**\n",
        "We changed the hyperparameter 'order' (1,1,1) so that we eliminate seasonality, trends from previous months. Thus, the lockdown is accounted for. We want the model to learn from the first day of March and learn the trend during the middle of March when Covid restrictions were implimented."
      ]
    },
    {
      "cell_type": "code",
      "execution_count": 144,
      "metadata": {
        "colab": {
          "base_uri": "https://localhost:8080/"
        },
        "id": "1ND3vXPKPitu",
        "outputId": "75ecc808-5c1d-4841-cff9-dc85da70e29f"
      },
      "outputs": [
        {
          "output_type": "stream",
          "name": "stdout",
          "text": [
            "Last 10 days of 1st quarter: 7268630.4\n"
          ]
        }
      ],
      "source": [
        "grouped_data =data.groupby(by='event_date')['APP_APPLICATION_OPEN_UU'].sum().reset_index()\n",
        "grouped_data['event_date'] = pd.to_datetime(grouped_data['event_date'], infer_datetime_format=True).dt.date\n",
        "grouped_data = grouped_data.sort_values(by='event_date', ascending=True)\n",
        "data = grouped_data\n",
        " \n",
        "# Model\n",
        "model=ARIMA(data['APP_APPLICATION_OPEN_UU'],order=(1,1,1))\n",
        "model_fit=model.fit()\n",
        "model_fit.summary()   \n",
        "\n",
        "pred1 = model_fit.predict(start=447 , end= 456).astype(float).astype(int)\n",
        "first_q = pred1.mean()\n",
        "\n",
        "print('Last 10 days of 1st quarter: ' +str(first_q) )"
      ]
    },
    {
      "cell_type": "markdown",
      "metadata": {
        "id": "DGLRky7mPitw"
      },
      "source": [
        "**Merging Predictions with original dataset to visualize:**"
      ]
    },
    {
      "cell_type": "code",
      "execution_count": 145,
      "metadata": {
        "colab": {
          "base_uri": "https://localhost:8080/",
          "height": 394
        },
        "id": "lz-Mh7ykPitw",
        "outputId": "185f9de1-9069-4539-98c6-cf61310f57dc"
      },
      "outputs": [
        {
          "output_type": "execute_result",
          "data": {
            "text/plain": [
              "    event_date  APP_APPLICATION_OPEN_UU\n",
              "0   2020-03-21                  7289909\n",
              "1   2020-03-22                  7274803\n",
              "2   2020-03-23                  7271475\n",
              "3   2020-03-24                  7269503\n",
              "4   2020-03-25                  7268335\n",
              "5   2020-03-26                  7267643\n",
              "6   2020-03-27                  7267234\n",
              "7   2020-03-28                  7266991\n",
              "8   2020-03-29                  7266847\n",
              "9   2020-03-30                  7266762\n",
              "10  2020-03-31                  7266711"
            ],
            "text/html": [
              "\n",
              "  <div id=\"df-c2ab59cd-278a-4188-a55d-f09ea2bebce7\">\n",
              "    <div class=\"colab-df-container\">\n",
              "      <div>\n",
              "<style scoped>\n",
              "    .dataframe tbody tr th:only-of-type {\n",
              "        vertical-align: middle;\n",
              "    }\n",
              "\n",
              "    .dataframe tbody tr th {\n",
              "        vertical-align: top;\n",
              "    }\n",
              "\n",
              "    .dataframe thead th {\n",
              "        text-align: right;\n",
              "    }\n",
              "</style>\n",
              "<table border=\"1\" class=\"dataframe\">\n",
              "  <thead>\n",
              "    <tr style=\"text-align: right;\">\n",
              "      <th></th>\n",
              "      <th>event_date</th>\n",
              "      <th>APP_APPLICATION_OPEN_UU</th>\n",
              "    </tr>\n",
              "  </thead>\n",
              "  <tbody>\n",
              "    <tr>\n",
              "      <th>0</th>\n",
              "      <td>2020-03-21</td>\n",
              "      <td>7289909</td>\n",
              "    </tr>\n",
              "    <tr>\n",
              "      <th>1</th>\n",
              "      <td>2020-03-22</td>\n",
              "      <td>7274803</td>\n",
              "    </tr>\n",
              "    <tr>\n",
              "      <th>2</th>\n",
              "      <td>2020-03-23</td>\n",
              "      <td>7271475</td>\n",
              "    </tr>\n",
              "    <tr>\n",
              "      <th>3</th>\n",
              "      <td>2020-03-24</td>\n",
              "      <td>7269503</td>\n",
              "    </tr>\n",
              "    <tr>\n",
              "      <th>4</th>\n",
              "      <td>2020-03-25</td>\n",
              "      <td>7268335</td>\n",
              "    </tr>\n",
              "    <tr>\n",
              "      <th>5</th>\n",
              "      <td>2020-03-26</td>\n",
              "      <td>7267643</td>\n",
              "    </tr>\n",
              "    <tr>\n",
              "      <th>6</th>\n",
              "      <td>2020-03-27</td>\n",
              "      <td>7267234</td>\n",
              "    </tr>\n",
              "    <tr>\n",
              "      <th>7</th>\n",
              "      <td>2020-03-28</td>\n",
              "      <td>7266991</td>\n",
              "    </tr>\n",
              "    <tr>\n",
              "      <th>8</th>\n",
              "      <td>2020-03-29</td>\n",
              "      <td>7266847</td>\n",
              "    </tr>\n",
              "    <tr>\n",
              "      <th>9</th>\n",
              "      <td>2020-03-30</td>\n",
              "      <td>7266762</td>\n",
              "    </tr>\n",
              "    <tr>\n",
              "      <th>10</th>\n",
              "      <td>2020-03-31</td>\n",
              "      <td>7266711</td>\n",
              "    </tr>\n",
              "  </tbody>\n",
              "</table>\n",
              "</div>\n",
              "      <button class=\"colab-df-convert\" onclick=\"convertToInteractive('df-c2ab59cd-278a-4188-a55d-f09ea2bebce7')\"\n",
              "              title=\"Convert this dataframe to an interactive table.\"\n",
              "              style=\"display:none;\">\n",
              "        \n",
              "  <svg xmlns=\"http://www.w3.org/2000/svg\" height=\"24px\"viewBox=\"0 0 24 24\"\n",
              "       width=\"24px\">\n",
              "    <path d=\"M0 0h24v24H0V0z\" fill=\"none\"/>\n",
              "    <path d=\"M18.56 5.44l.94 2.06.94-2.06 2.06-.94-2.06-.94-.94-2.06-.94 2.06-2.06.94zm-11 1L8.5 8.5l.94-2.06 2.06-.94-2.06-.94L8.5 2.5l-.94 2.06-2.06.94zm10 10l.94 2.06.94-2.06 2.06-.94-2.06-.94-.94-2.06-.94 2.06-2.06.94z\"/><path d=\"M17.41 7.96l-1.37-1.37c-.4-.4-.92-.59-1.43-.59-.52 0-1.04.2-1.43.59L10.3 9.45l-7.72 7.72c-.78.78-.78 2.05 0 2.83L4 21.41c.39.39.9.59 1.41.59.51 0 1.02-.2 1.41-.59l7.78-7.78 2.81-2.81c.8-.78.8-2.07 0-2.86zM5.41 20L4 18.59l7.72-7.72 1.47 1.35L5.41 20z\"/>\n",
              "  </svg>\n",
              "      </button>\n",
              "      \n",
              "  <style>\n",
              "    .colab-df-container {\n",
              "      display:flex;\n",
              "      flex-wrap:wrap;\n",
              "      gap: 12px;\n",
              "    }\n",
              "\n",
              "    .colab-df-convert {\n",
              "      background-color: #E8F0FE;\n",
              "      border: none;\n",
              "      border-radius: 50%;\n",
              "      cursor: pointer;\n",
              "      display: none;\n",
              "      fill: #1967D2;\n",
              "      height: 32px;\n",
              "      padding: 0 0 0 0;\n",
              "      width: 32px;\n",
              "    }\n",
              "\n",
              "    .colab-df-convert:hover {\n",
              "      background-color: #E2EBFA;\n",
              "      box-shadow: 0px 1px 2px rgba(60, 64, 67, 0.3), 0px 1px 3px 1px rgba(60, 64, 67, 0.15);\n",
              "      fill: #174EA6;\n",
              "    }\n",
              "\n",
              "    [theme=dark] .colab-df-convert {\n",
              "      background-color: #3B4455;\n",
              "      fill: #D2E3FC;\n",
              "    }\n",
              "\n",
              "    [theme=dark] .colab-df-convert:hover {\n",
              "      background-color: #434B5C;\n",
              "      box-shadow: 0px 1px 3px 1px rgba(0, 0, 0, 0.15);\n",
              "      filter: drop-shadow(0px 1px 2px rgba(0, 0, 0, 0.3));\n",
              "      fill: #FFFFFF;\n",
              "    }\n",
              "  </style>\n",
              "\n",
              "      <script>\n",
              "        const buttonEl =\n",
              "          document.querySelector('#df-c2ab59cd-278a-4188-a55d-f09ea2bebce7 button.colab-df-convert');\n",
              "        buttonEl.style.display =\n",
              "          google.colab.kernel.accessAllowed ? 'block' : 'none';\n",
              "\n",
              "        async function convertToInteractive(key) {\n",
              "          const element = document.querySelector('#df-c2ab59cd-278a-4188-a55d-f09ea2bebce7');\n",
              "          const dataTable =\n",
              "            await google.colab.kernel.invokeFunction('convertToInteractive',\n",
              "                                                     [key], {});\n",
              "          if (!dataTable) return;\n",
              "\n",
              "          const docLinkHtml = 'Like what you see? Visit the ' +\n",
              "            '<a target=\"_blank\" href=https://colab.research.google.com/notebooks/data_table.ipynb>data table notebook</a>'\n",
              "            + ' to learn more about interactive tables.';\n",
              "          element.innerHTML = '';\n",
              "          dataTable['output_type'] = 'display_data';\n",
              "          await google.colab.output.renderOutput(dataTable, element);\n",
              "          const docLink = document.createElement('div');\n",
              "          docLink.innerHTML = docLinkHtml;\n",
              "          element.appendChild(docLink);\n",
              "        }\n",
              "      </script>\n",
              "    </div>\n",
              "  </div>\n",
              "  "
            ]
          },
          "metadata": {},
          "execution_count": 145
        }
      ],
      "source": [
        "def get_date_after(n):\n",
        "    base_date = date(2020, 3, 21)\n",
        "    target_date = base_date + timedelta(days=n)\n",
        "    return target_date.isoformat()\n",
        "\n",
        "data3 = pd.DataFrame(pred1)\n",
        "dates = []\n",
        "for i in range(1,11):\n",
        "    dates.append(get_date_after(i))\n",
        "data3['event_date'] = dates\n",
        "#len(data3)\n",
        "data3['APP_APPLICATION_OPEN_UU'] = data3['predicted_mean']\n",
        "new_row = pd.DataFrame({'predicted_mean':7289909, 'event_date':'2020-03-21','APP_APPLICATION_OPEN_UU':7289909}, index =[0])\n",
        " \n",
        "# Concatenate new_row with df\n",
        "data3 = pd.concat([new_row, data3[:]]).reset_index(drop = True)\n",
        "data3 = data3.drop(['predicted_mean'], axis=1)\n",
        "data3"
      ]
    },
    {
      "cell_type": "markdown",
      "metadata": {
        "id": "h-mkjR1nPity"
      },
      "source": [
        "**Visualizing Q1 of 2019 to Q1 of 2020**"
      ]
    },
    {
      "cell_type": "code",
      "execution_count": 146,
      "metadata": {
        "colab": {
          "base_uri": "https://localhost:8080/",
          "height": 295
        },
        "id": "2MTpgji0Pitz",
        "outputId": "73ea252f-646d-4aa8-9fff-d435aa660bd2"
      },
      "outputs": [
        {
          "output_type": "display_data",
          "data": {
            "text/plain": [
              "<Figure size 432x288 with 1 Axes>"
            ],
            "image/png": "[encoded data removed]"
          },
          "metadata": {
            "needs_background": "light"
          }
        }
      ],
      "source": [
        "# Trend from 2019\n",
        "\n",
        "plt.plot(data['event_date'], data['APP_APPLICATION_OPEN_UU'], color='blue')\n",
        "plt.plot(pd.to_datetime(data3['event_date'].to_list()), data3['APP_APPLICATION_OPEN_UU'], color='red')\n",
        "plt.ylabel('Number of App Opens')\n",
        "plt.xlabel('Month')\n",
        "plt.title('Trend in 2019 - 2020')\n",
        "plt.show()"
      ]
    },
    {
      "cell_type": "markdown",
      "source": [
        "**Visualizing Q1**"
      ],
      "metadata": {
        "id": "aq8cebKvEAlH"
      }
    },
    {
      "cell_type": "code",
      "execution_count": 147,
      "metadata": {
        "colab": {
          "base_uri": "https://localhost:8080/",
          "height": 281
        },
        "id": "HCjcV97nPit0",
        "outputId": "f2cf76bd-659e-41af-efd7-801e084a8c7c"
      },
      "outputs": [
        {
          "output_type": "display_data",
          "data": {
            "text/plain": [
              "<Figure size 432x288 with 1 Axes>"
            ],
            "image/png": "[encoded data removed]"
          },
          "metadata": {
            "needs_background": "light"
          }
        }
      ],
      "source": [
        "# Just 1st Quarter\n",
        "fig, ax = plt.subplots()\n",
        "\n",
        "ax.plot(data['event_date'].tail(100), data['APP_APPLICATION_OPEN_UU'].tail(100), color='blue')\n",
        "ax.plot(pd.to_datetime(data3['event_date'].to_list()), data3['APP_APPLICATION_OPEN_UU'], color='red')\n",
        "\n",
        "def format_ytick(value, _):\n",
        "    return '1st quarter'\n",
        "\n",
        "ax.set_xticklabels(['January 2021',' ','','Febuary 2021','','','March 2021']) \n",
        "\n",
        "plt.ylabel('Number of App Opens')\n",
        "\n",
        "plt.title('Trend in 1st Quarter')\n",
        "\n",
        "plt.show()"
      ]
    },
    {
      "cell_type": "markdown",
      "metadata": {
        "id": "-4fg1-LzPit1"
      },
      "source": [
        "# **Question 2**"
      ]
    },
    {
      "cell_type": "markdown",
      "metadata": {
        "id": "HSPLHlLgPit1"
      },
      "source": [
        "**Joining Quarter 1 predictions**"
      ]
    },
    {
      "cell_type": "code",
      "execution_count": 148,
      "metadata": {
        "colab": {
          "base_uri": "https://localhost:8080/",
          "height": 423
        },
        "id": "dZkj6Gx3Pit1",
        "outputId": "202e4cf8-52d7-4b34-f735-a074d727ec4e"
      },
      "outputs": [
        {
          "output_type": "execute_result",
          "data": {
            "text/plain": [
              "   event_date  APP_APPLICATION_OPEN_UU        day\n",
              "0  2019-01-01                  7012787    Tuesday\n",
              "2  2019-01-02                  6522305  Wednesday\n",
              "4  2019-01-03                  6457837   Thursday\n",
              "6  2019-01-04                  6529505     Friday\n",
              "8  2019-01-05                  6650731   Saturday\n",
              "..        ...                      ...        ...\n",
              "6  2020-03-27                  7267234     Friday\n",
              "7  2020-03-28                  7266991   Saturday\n",
              "8  2020-03-29                  7266847     Sunday\n",
              "9  2020-03-30                  7266762     Monday\n",
              "10 2020-03-31                  7266711    Tuesday\n",
              "\n",
              "[456 rows x 3 columns]"
            ],
            "text/html": [
              "\n",
              "  <div id=\"df-e4e8fcfe-a93f-46aa-8ea6-d13f52289a18\">\n",
              "    <div class=\"colab-df-container\">\n",
              "      <div>\n",
              "<style scoped>\n",
              "    .dataframe tbody tr th:only-of-type {\n",
              "        vertical-align: middle;\n",
              "    }\n",
              "\n",
              "    .dataframe tbody tr th {\n",
              "        vertical-align: top;\n",
              "    }\n",
              "\n",
              "    .dataframe thead th {\n",
              "        text-align: right;\n",
              "    }\n",
              "</style>\n",
              "<table border=\"1\" class=\"dataframe\">\n",
              "  <thead>\n",
              "    <tr style=\"text-align: right;\">\n",
              "      <th></th>\n",
              "      <th>event_date</th>\n",
              "      <th>APP_APPLICATION_OPEN_UU</th>\n",
              "      <th>day</th>\n",
              "    </tr>\n",
              "  </thead>\n",
              "  <tbody>\n",
              "    <tr>\n",
              "      <th>0</th>\n",
              "      <td>2019-01-01</td>\n",
              "      <td>7012787</td>\n",
              "      <td>Tuesday</td>\n",
              "    </tr>\n",
              "    <tr>\n",
              "      <th>2</th>\n",
              "      <td>2019-01-02</td>\n",
              "      <td>6522305</td>\n",
              "      <td>Wednesday</td>\n",
              "    </tr>\n",
              "    <tr>\n",
              "      <th>4</th>\n",
              "      <td>2019-01-03</td>\n",
              "      <td>6457837</td>\n",
              "      <td>Thursday</td>\n",
              "    </tr>\n",
              "    <tr>\n",
              "      <th>6</th>\n",
              "      <td>2019-01-04</td>\n",
              "      <td>6529505</td>\n",
              "      <td>Friday</td>\n",
              "    </tr>\n",
              "    <tr>\n",
              "      <th>8</th>\n",
              "      <td>2019-01-05</td>\n",
              "      <td>6650731</td>\n",
              "      <td>Saturday</td>\n",
              "    </tr>\n",
              "    <tr>\n",
              "      <th>...</th>\n",
              "      <td>...</td>\n",
              "      <td>...</td>\n",
              "      <td>...</td>\n",
              "    </tr>\n",
              "    <tr>\n",
              "      <th>6</th>\n",
              "      <td>2020-03-27</td>\n",
              "      <td>7267234</td>\n",
              "      <td>Friday</td>\n",
              "    </tr>\n",
              "    <tr>\n",
              "      <th>7</th>\n",
              "      <td>2020-03-28</td>\n",
              "      <td>7266991</td>\n",
              "      <td>Saturday</td>\n",
              "    </tr>\n",
              "    <tr>\n",
              "      <th>8</th>\n",
              "      <td>2020-03-29</td>\n",
              "      <td>7266847</td>\n",
              "      <td>Sunday</td>\n",
              "    </tr>\n",
              "    <tr>\n",
              "      <th>9</th>\n",
              "      <td>2020-03-30</td>\n",
              "      <td>7266762</td>\n",
              "      <td>Monday</td>\n",
              "    </tr>\n",
              "    <tr>\n",
              "      <th>10</th>\n",
              "      <td>2020-03-31</td>\n",
              "      <td>7266711</td>\n",
              "      <td>Tuesday</td>\n",
              "    </tr>\n",
              "  </tbody>\n",
              "</table>\n",
              "<p>456 rows × 3 columns</p>\n",
              "</div>\n",
              "      <button class=\"colab-df-convert\" onclick=\"convertToInteractive('df-e4e8fcfe-a93f-46aa-8ea6-d13f52289a18')\"\n",
              "              title=\"Convert this dataframe to an interactive table.\"\n",
              "              style=\"display:none;\">\n",
              "        \n",
              "  <svg xmlns=\"http://www.w3.org/2000/svg\" height=\"24px\"viewBox=\"0 0 24 24\"\n",
              "       width=\"24px\">\n",
              "    <path d=\"M0 0h24v24H0V0z\" fill=\"none\"/>\n",
              "    <path d=\"M18.56 5.44l.94 2.06.94-2.06 2.06-.94-2.06-.94-.94-2.06-.94 2.06-2.06.94zm-11 1L8.5 8.5l.94-2.06 2.06-.94-2.06-.94L8.5 2.5l-.94 2.06-2.06.94zm10 10l.94 2.06.94-2.06 2.06-.94-2.06-.94-.94-2.06-.94 2.06-2.06.94z\"/><path d=\"M17.41 7.96l-1.37-1.37c-.4-.4-.92-.59-1.43-.59-.52 0-1.04.2-1.43.59L10.3 9.45l-7.72 7.72c-.78.78-.78 2.05 0 2.83L4 21.41c.39.39.9.59 1.41.59.51 0 1.02-.2 1.41-.59l7.78-7.78 2.81-2.81c.8-.78.8-2.07 0-2.86zM5.41 20L4 18.59l7.72-7.72 1.47 1.35L5.41 20z\"/>\n",
              "  </svg>\n",
              "      </button>\n",
              "      \n",
              "  <style>\n",
              "    .colab-df-container {\n",
              "      display:flex;\n",
              "      flex-wrap:wrap;\n",
              "      gap: 12px;\n",
              "    }\n",
              "\n",
              "    .colab-df-convert {\n",
              "      background-color: #E8F0FE;\n",
              "      border: none;\n",
              "      border-radius: 50%;\n",
              "      cursor: pointer;\n",
              "      display: none;\n",
              "      fill: #1967D2;\n",
              "      height: 32px;\n",
              "      padding: 0 0 0 0;\n",
              "      width: 32px;\n",
              "    }\n",
              "\n",
              "    .colab-df-convert:hover {\n",
              "      background-color: #E2EBFA;\n",
              "      box-shadow: 0px 1px 2px rgba(60, 64, 67, 0.3), 0px 1px 3px 1px rgba(60, 64, 67, 0.15);\n",
              "      fill: #174EA6;\n",
              "    }\n",
              "\n",
              "    [theme=dark] .colab-df-convert {\n",
              "      background-color: #3B4455;\n",
              "      fill: #D2E3FC;\n",
              "    }\n",
              "\n",
              "    [theme=dark] .colab-df-convert:hover {\n",
              "      background-color: #434B5C;\n",
              "      box-shadow: 0px 1px 3px 1px rgba(0, 0, 0, 0.15);\n",
              "      filter: drop-shadow(0px 1px 2px rgba(0, 0, 0, 0.3));\n",
              "      fill: #FFFFFF;\n",
              "    }\n",
              "  </style>\n",
              "\n",
              "      <script>\n",
              "        const buttonEl =\n",
              "          document.querySelector('#df-e4e8fcfe-a93f-46aa-8ea6-d13f52289a18 button.colab-df-convert');\n",
              "        buttonEl.style.display =\n",
              "          google.colab.kernel.accessAllowed ? 'block' : 'none';\n",
              "\n",
              "        async function convertToInteractive(key) {\n",
              "          const element = document.querySelector('#df-e4e8fcfe-a93f-46aa-8ea6-d13f52289a18');\n",
              "          const dataTable =\n",
              "            await google.colab.kernel.invokeFunction('convertToInteractive',\n",
              "                                                     [key], {});\n",
              "          if (!dataTable) return;\n",
              "\n",
              "          const docLinkHtml = 'Like what you see? Visit the ' +\n",
              "            '<a target=\"_blank\" href=https://colab.research.google.com/notebooks/data_table.ipynb>data table notebook</a>'\n",
              "            + ' to learn more about interactive tables.';\n",
              "          element.innerHTML = '';\n",
              "          dataTable['output_type'] = 'display_data';\n",
              "          await google.colab.output.renderOutput(dataTable, element);\n",
              "          const docLink = document.createElement('div');\n",
              "          docLink.innerHTML = docLinkHtml;\n",
              "          element.appendChild(docLink);\n",
              "        }\n",
              "      </script>\n",
              "    </div>\n",
              "  </div>\n",
              "  "
            ]
          },
          "metadata": {},
          "execution_count": 148
        }
      ],
      "source": [
        "data = data.append(data3)\n",
        "data = data[data.event_date != '2020-03-21']\n",
        "data[\"event_date\"] = data[\"event_date\"].astype(str)\n",
        "data[\"event_date\"] = pd.to_datetime(data[\"event_date\"])\n",
        "data[\"day\"] = data[\"event_date\"].dt.day_name() \n",
        "data"
      ]
    },
    {
      "cell_type": "markdown",
      "metadata": {
        "id": "A-uE-AbBPit2"
      },
      "source": [
        "**Filtering to include the month of december, the weekends and American public holidays in 2019 and the first quarter of 2020 (Including the predictions made for question 1)**\n",
        "\n",
        "Holidays included:\n",
        "New Year's Day, Maundy Thursday, Good Friday, Easter Monday, Labor Day, Ascension Day, White Monday, Christmas Eve, Christmas Day, Boxing Day, New Year's Eve"
      ]
    },
    {
      "cell_type": "code",
      "execution_count": 150,
      "metadata": {
        "colab": {
          "base_uri": "https://localhost:8080/",
          "height": 423
        },
        "id": "qqut9WybPit2",
        "outputId": "164c05aa-41ea-410a-cace-013c2674554f"
      },
      "outputs": [
        {
          "output_type": "execute_result",
          "data": {
            "text/plain": [
              "    event_date  APP_APPLICATION_OPEN_UU       day\n",
              "0   2019-01-01                  7012787   Tuesday\n",
              "8   2019-01-05                  6650731  Saturday\n",
              "10  2019-01-06                  6582407    Sunday\n",
              "22  2019-01-12                  6715600  Saturday\n",
              "144 2019-01-13                  6629332    Sunday\n",
              "..         ...                      ...       ...\n",
              "7   2020-03-28                  7266991  Saturday\n",
              "8   2020-03-29                  7266847    Sunday\n",
              "8   2020-03-29                  7266847    Sunday\n",
              "9   2020-03-30                  7266762    Monday\n",
              "10  2020-03-31                  7266711   Tuesday\n",
              "\n",
              "[174 rows x 3 columns]"
            ],
            "text/html": [
              "\n",
              "  <div id=\"df-d04e6a24-3ec9-49b5-b1f7-9d86d2020e3d\">\n",
              "    <div class=\"colab-df-container\">\n",
              "      <div>\n",
              "<style scoped>\n",
              "    .dataframe tbody tr th:only-of-type {\n",
              "        vertical-align: middle;\n",
              "    }\n",
              "\n",
              "    .dataframe tbody tr th {\n",
              "        vertical-align: top;\n",
              "    }\n",
              "\n",
              "    .dataframe thead th {\n",
              "        text-align: right;\n",
              "    }\n",
              "</style>\n",
              "<table border=\"1\" class=\"dataframe\">\n",
              "  <thead>\n",
              "    <tr style=\"text-align: right;\">\n",
              "      <th></th>\n",
              "      <th>event_date</th>\n",
              "      <th>APP_APPLICATION_OPEN_UU</th>\n",
              "      <th>day</th>\n",
              "    </tr>\n",
              "  </thead>\n",
              "  <tbody>\n",
              "    <tr>\n",
              "      <th>0</th>\n",
              "      <td>2019-01-01</td>\n",
              "      <td>7012787</td>\n",
              "      <td>Tuesday</td>\n",
              "    </tr>\n",
              "    <tr>\n",
              "      <th>8</th>\n",
              "      <td>2019-01-05</td>\n",
              "      <td>6650731</td>\n",
              "      <td>Saturday</td>\n",
              "    </tr>\n",
              "    <tr>\n",
              "      <th>10</th>\n",
              "      <td>2019-01-06</td>\n",
              "      <td>6582407</td>\n",
              "      <td>Sunday</td>\n",
              "    </tr>\n",
              "    <tr>\n",
              "      <th>22</th>\n",
              "      <td>2019-01-12</td>\n",
              "      <td>6715600</td>\n",
              "      <td>Saturday</td>\n",
              "    </tr>\n",
              "    <tr>\n",
              "      <th>144</th>\n",
              "      <td>2019-01-13</td>\n",
              "      <td>6629332</td>\n",
              "      <td>Sunday</td>\n",
              "    </tr>\n",
              "    <tr>\n",
              "      <th>...</th>\n",
              "      <td>...</td>\n",
              "      <td>...</td>\n",
              "      <td>...</td>\n",
              "    </tr>\n",
              "    <tr>\n",
              "      <th>7</th>\n",
              "      <td>2020-03-28</td>\n",
              "      <td>7266991</td>\n",
              "      <td>Saturday</td>\n",
              "    </tr>\n",
              "    <tr>\n",
              "      <th>8</th>\n",
              "      <td>2020-03-29</td>\n",
              "      <td>7266847</td>\n",
              "      <td>Sunday</td>\n",
              "    </tr>\n",
              "    <tr>\n",
              "      <th>8</th>\n",
              "      <td>2020-03-29</td>\n",
              "      <td>7266847</td>\n",
              "      <td>Sunday</td>\n",
              "    </tr>\n",
              "    <tr>\n",
              "      <th>9</th>\n",
              "      <td>2020-03-30</td>\n",
              "      <td>7266762</td>\n",
              "      <td>Monday</td>\n",
              "    </tr>\n",
              "    <tr>\n",
              "      <th>10</th>\n",
              "      <td>2020-03-31</td>\n",
              "      <td>7266711</td>\n",
              "      <td>Tuesday</td>\n",
              "    </tr>\n",
              "  </tbody>\n",
              "</table>\n",
              "<p>174 rows × 3 columns</p>\n",
              "</div>\n",
              "      <button class=\"colab-df-convert\" onclick=\"convertToInteractive('df-d04e6a24-3ec9-49b5-b1f7-9d86d2020e3d')\"\n",
              "              title=\"Convert this dataframe to an interactive table.\"\n",
              "              style=\"display:none;\">\n",
              "        \n",
              "  <svg xmlns=\"http://www.w3.org/2000/svg\" height=\"24px\"viewBox=\"0 0 24 24\"\n",
              "       width=\"24px\">\n",
              "    <path d=\"M0 0h24v24H0V0z\" fill=\"none\"/>\n",
              "    <path d=\"M18.56 5.44l.94 2.06.94-2.06 2.06-.94-2.06-.94-.94-2.06-.94 2.06-2.06.94zm-11 1L8.5 8.5l.94-2.06 2.06-.94-2.06-.94L8.5 2.5l-.94 2.06-2.06.94zm10 10l.94 2.06.94-2.06 2.06-.94-2.06-.94-.94-2.06-.94 2.06-2.06.94z\"/><path d=\"M17.41 7.96l-1.37-1.37c-.4-.4-.92-.59-1.43-.59-.52 0-1.04.2-1.43.59L10.3 9.45l-7.72 7.72c-.78.78-.78 2.05 0 2.83L4 21.41c.39.39.9.59 1.41.59.51 0 1.02-.2 1.41-.59l7.78-7.78 2.81-2.81c.8-.78.8-2.07 0-2.86zM5.41 20L4 18.59l7.72-7.72 1.47 1.35L5.41 20z\"/>\n",
              "  </svg>\n",
              "      </button>\n",
              "      \n",
              "  <style>\n",
              "    .colab-df-container {\n",
              "      display:flex;\n",
              "      flex-wrap:wrap;\n",
              "      gap: 12px;\n",
              "    }\n",
              "\n",
              "    .colab-df-convert {\n",
              "      background-color: #E8F0FE;\n",
              "      border: none;\n",
              "      border-radius: 50%;\n",
              "      cursor: pointer;\n",
              "      display: none;\n",
              "      fill: #1967D2;\n",
              "      height: 32px;\n",
              "      padding: 0 0 0 0;\n",
              "      width: 32px;\n",
              "    }\n",
              "\n",
              "    .colab-df-convert:hover {\n",
              "      background-color: #E2EBFA;\n",
              "      box-shadow: 0px 1px 2px rgba(60, 64, 67, 0.3), 0px 1px 3px 1px rgba(60, 64, 67, 0.15);\n",
              "      fill: #174EA6;\n",
              "    }\n",
              "\n",
              "    [theme=dark] .colab-df-convert {\n",
              "      background-color: #3B4455;\n",
              "      fill: #D2E3FC;\n",
              "    }\n",
              "\n",
              "    [theme=dark] .colab-df-convert:hover {\n",
              "      background-color: #434B5C;\n",
              "      box-shadow: 0px 1px 3px 1px rgba(0, 0, 0, 0.15);\n",
              "      filter: drop-shadow(0px 1px 2px rgba(0, 0, 0, 0.3));\n",
              "      fill: #FFFFFF;\n",
              "    }\n",
              "  </style>\n",
              "\n",
              "      <script>\n",
              "        const buttonEl =\n",
              "          document.querySelector('#df-d04e6a24-3ec9-49b5-b1f7-9d86d2020e3d button.colab-df-convert');\n",
              "        buttonEl.style.display =\n",
              "          google.colab.kernel.accessAllowed ? 'block' : 'none';\n",
              "\n",
              "        async function convertToInteractive(key) {\n",
              "          const element = document.querySelector('#df-d04e6a24-3ec9-49b5-b1f7-9d86d2020e3d');\n",
              "          const dataTable =\n",
              "            await google.colab.kernel.invokeFunction('convertToInteractive',\n",
              "                                                     [key], {});\n",
              "          if (!dataTable) return;\n",
              "\n",
              "          const docLinkHtml = 'Like what you see? Visit the ' +\n",
              "            '<a target=\"_blank\" href=https://colab.research.google.com/notebooks/data_table.ipynb>data table notebook</a>'\n",
              "            + ' to learn more about interactive tables.';\n",
              "          element.innerHTML = '';\n",
              "          dataTable['output_type'] = 'display_data';\n",
              "          await google.colab.output.renderOutput(dataTable, element);\n",
              "          const docLink = document.createElement('div');\n",
              "          docLink.innerHTML = docLinkHtml;\n",
              "          element.appendChild(docLink);\n",
              "        }\n",
              "      </script>\n",
              "    </div>\n",
              "  </div>\n",
              "  "
            ]
          },
          "metadata": {},
          "execution_count": 150
        }
      ],
      "source": [
        "# Holidays\n",
        "holidays = data[data['event_date'].isin(['2019-01-01','2019-04-18','2019-04-19','2019-04-22','2019-05-01','2019-05-30','2019-06-10','2019-12-24','2019-12-25','2019-12-26','2019-12-31'])]weekends = data[(data['day'] == 'Saturday') | (data['day'] == 'Sunday')] \n",
        "\n",
        "# December\n",
        "data[\"event_date\"] = pd.to_datetime(data[\"event_date\"])\n",
        "december = data[data[\"event_date\"].dt.month == 12]\n",
        "december = december[(december['day'] != 'Saturday')] \n",
        "december = december[(december['day'] != 'Sunday')] \n",
        "training = december.append(weekends)\n",
        "training = training.append(holidays)\n",
        "data3[\"event_date\"] = pd.to_datetime(data3[\"event_date\"])\n",
        "data3[\"day\"] = data3[\"event_date\"].dt.day_name() \n",
        "\n",
        "training = training.append(data3) \n",
        "training = training.sort_values(by='event_date', ascending=True) \n",
        "training"
      ]
    },
    {
      "cell_type": "markdown",
      "metadata": {
        "id": "Czvfn2P2Pit2"
      },
      "source": [
        "**Predictions for the 2nd Quarter**"
      ]
    },
    {
      "cell_type": "code",
      "execution_count": 151,
      "metadata": {
        "colab": {
          "base_uri": "https://localhost:8080/"
        },
        "id": "5eacIkOiPit2",
        "outputId": "fff00ba2-bb85-48c0-a8b1-a6697916448c"
      },
      "outputs": [
        {
          "output_type": "stream",
          "name": "stdout",
          "text": [
            "2nd quarter: 7273120.739130435\n"
          ]
        }
      ],
      "source": [
        "# Model\n",
        "model=ARIMA(training['APP_APPLICATION_OPEN_UU'],order=(2,1,1))\n",
        "model_fit=model.fit()\n",
        "model_fit.summary()   \n",
        "pred2 = model_fit.predict(start=175 , end= 266).astype(float).astype(int)\n",
        "second_q = pred2.mean()\n",
        "\n",
        "print('2nd quarter: ' +str(second_q) )"
      ]
    },
    {
      "cell_type": "markdown",
      "metadata": {
        "id": "qzcJB59RPit3"
      },
      "source": [
        "**Merge Predictions with original dataset to visualize**"
      ]
    },
    {
      "cell_type": "code",
      "execution_count": 152,
      "metadata": {
        "colab": {
          "base_uri": "https://localhost:8080/",
          "height": 423
        },
        "id": "26tPVSC5Pit3",
        "outputId": "3f42a8f9-fedc-4df5-8f69-d92d7e3ee845"
      },
      "outputs": [
        {
          "output_type": "execute_result",
          "data": {
            "text/plain": [
              "    event_date  APP_APPLICATION_OPEN_UU\n",
              "0   2020-03-31                  7266711\n",
              "1   2020-03-31                  7265892\n",
              "2   2020-04-01                  7280311\n",
              "3   2020-04-02                  7266088\n",
              "4   2020-04-03                  7280112\n",
              "..         ...                      ...\n",
              "88  2020-06-26                  7275281\n",
              "89  2020-06-27                  7271048\n",
              "90  2020-06-28                  7275222\n",
              "91  2020-06-29                  7271106\n",
              "92  2020-06-30                  7275164\n",
              "\n",
              "[93 rows x 2 columns]"
            ],
            "text/html": [
              "\n",
              "  <div id=\"df-7a016a7d-f321-4669-9983-e2cffb309c1e\">\n",
              "    <div class=\"colab-df-container\">\n",
              "      <div>\n",
              "<style scoped>\n",
              "    .dataframe tbody tr th:only-of-type {\n",
              "        vertical-align: middle;\n",
              "    }\n",
              "\n",
              "    .dataframe tbody tr th {\n",
              "        vertical-align: top;\n",
              "    }\n",
              "\n",
              "    .dataframe thead th {\n",
              "        text-align: right;\n",
              "    }\n",
              "</style>\n",
              "<table border=\"1\" class=\"dataframe\">\n",
              "  <thead>\n",
              "    <tr style=\"text-align: right;\">\n",
              "      <th></th>\n",
              "      <th>event_date</th>\n",
              "      <th>APP_APPLICATION_OPEN_UU</th>\n",
              "    </tr>\n",
              "  </thead>\n",
              "  <tbody>\n",
              "    <tr>\n",
              "      <th>0</th>\n",
              "      <td>2020-03-31</td>\n",
              "      <td>7266711</td>\n",
              "    </tr>\n",
              "    <tr>\n",
              "      <th>1</th>\n",
              "      <td>2020-03-31</td>\n",
              "      <td>7265892</td>\n",
              "    </tr>\n",
              "    <tr>\n",
              "      <th>2</th>\n",
              "      <td>2020-04-01</td>\n",
              "      <td>7280311</td>\n",
              "    </tr>\n",
              "    <tr>\n",
              "      <th>3</th>\n",
              "      <td>2020-04-02</td>\n",
              "      <td>7266088</td>\n",
              "    </tr>\n",
              "    <tr>\n",
              "      <th>4</th>\n",
              "      <td>2020-04-03</td>\n",
              "      <td>7280112</td>\n",
              "    </tr>\n",
              "    <tr>\n",
              "      <th>...</th>\n",
              "      <td>...</td>\n",
              "      <td>...</td>\n",
              "    </tr>\n",
              "    <tr>\n",
              "      <th>88</th>\n",
              "      <td>2020-06-26</td>\n",
              "      <td>7275281</td>\n",
              "    </tr>\n",
              "    <tr>\n",
              "      <th>89</th>\n",
              "      <td>2020-06-27</td>\n",
              "      <td>7271048</td>\n",
              "    </tr>\n",
              "    <tr>\n",
              "      <th>90</th>\n",
              "      <td>2020-06-28</td>\n",
              "      <td>7275222</td>\n",
              "    </tr>\n",
              "    <tr>\n",
              "      <th>91</th>\n",
              "      <td>2020-06-29</td>\n",
              "      <td>7271106</td>\n",
              "    </tr>\n",
              "    <tr>\n",
              "      <th>92</th>\n",
              "      <td>2020-06-30</td>\n",
              "      <td>7275164</td>\n",
              "    </tr>\n",
              "  </tbody>\n",
              "</table>\n",
              "<p>93 rows × 2 columns</p>\n",
              "</div>\n",
              "      <button class=\"colab-df-convert\" onclick=\"convertToInteractive('df-7a016a7d-f321-4669-9983-e2cffb309c1e')\"\n",
              "              title=\"Convert this dataframe to an interactive table.\"\n",
              "              style=\"display:none;\">\n",
              "        \n",
              "  <svg xmlns=\"http://www.w3.org/2000/svg\" height=\"24px\"viewBox=\"0 0 24 24\"\n",
              "       width=\"24px\">\n",
              "    <path d=\"M0 0h24v24H0V0z\" fill=\"none\"/>\n",
              "    <path d=\"M18.56 5.44l.94 2.06.94-2.06 2.06-.94-2.06-.94-.94-2.06-.94 2.06-2.06.94zm-11 1L8.5 8.5l.94-2.06 2.06-.94-2.06-.94L8.5 2.5l-.94 2.06-2.06.94zm10 10l.94 2.06.94-2.06 2.06-.94-2.06-.94-.94-2.06-.94 2.06-2.06.94z\"/><path d=\"M17.41 7.96l-1.37-1.37c-.4-.4-.92-.59-1.43-.59-.52 0-1.04.2-1.43.59L10.3 9.45l-7.72 7.72c-.78.78-.78 2.05 0 2.83L4 21.41c.39.39.9.59 1.41.59.51 0 1.02-.2 1.41-.59l7.78-7.78 2.81-2.81c.8-.78.8-2.07 0-2.86zM5.41 20L4 18.59l7.72-7.72 1.47 1.35L5.41 20z\"/>\n",
              "  </svg>\n",
              "      </button>\n",
              "      \n",
              "  <style>\n",
              "    .colab-df-container {\n",
              "      display:flex;\n",
              "      flex-wrap:wrap;\n",
              "      gap: 12px;\n",
              "    }\n",
              "\n",
              "    .colab-df-convert {\n",
              "      background-color: #E8F0FE;\n",
              "      border: none;\n",
              "      border-radius: 50%;\n",
              "      cursor: pointer;\n",
              "      display: none;\n",
              "      fill: #1967D2;\n",
              "      height: 32px;\n",
              "      padding: 0 0 0 0;\n",
              "      width: 32px;\n",
              "    }\n",
              "\n",
              "    .colab-df-convert:hover {\n",
              "      background-color: #E2EBFA;\n",
              "      box-shadow: 0px 1px 2px rgba(60, 64, 67, 0.3), 0px 1px 3px 1px rgba(60, 64, 67, 0.15);\n",
              "      fill: #174EA6;\n",
              "    }\n",
              "\n",
              "    [theme=dark] .colab-df-convert {\n",
              "      background-color: #3B4455;\n",
              "      fill: #D2E3FC;\n",
              "    }\n",
              "\n",
              "    [theme=dark] .colab-df-convert:hover {\n",
              "      background-color: #434B5C;\n",
              "      box-shadow: 0px 1px 3px 1px rgba(0, 0, 0, 0.15);\n",
              "      filter: drop-shadow(0px 1px 2px rgba(0, 0, 0, 0.3));\n",
              "      fill: #FFFFFF;\n",
              "    }\n",
              "  </style>\n",
              "\n",
              "      <script>\n",
              "        const buttonEl =\n",
              "          document.querySelector('#df-7a016a7d-f321-4669-9983-e2cffb309c1e button.colab-df-convert');\n",
              "        buttonEl.style.display =\n",
              "          google.colab.kernel.accessAllowed ? 'block' : 'none';\n",
              "\n",
              "        async function convertToInteractive(key) {\n",
              "          const element = document.querySelector('#df-7a016a7d-f321-4669-9983-e2cffb309c1e');\n",
              "          const dataTable =\n",
              "            await google.colab.kernel.invokeFunction('convertToInteractive',\n",
              "                                                     [key], {});\n",
              "          if (!dataTable) return;\n",
              "\n",
              "          const docLinkHtml = 'Like what you see? Visit the ' +\n",
              "            '<a target=\"_blank\" href=https://colab.research.google.com/notebooks/data_table.ipynb>data table notebook</a>'\n",
              "            + ' to learn more about interactive tables.';\n",
              "          element.innerHTML = '';\n",
              "          dataTable['output_type'] = 'display_data';\n",
              "          await google.colab.output.renderOutput(dataTable, element);\n",
              "          const docLink = document.createElement('div');\n",
              "          docLink.innerHTML = docLinkHtml;\n",
              "          element.appendChild(docLink);\n",
              "        }\n",
              "      </script>\n",
              "    </div>\n",
              "  </div>\n",
              "  "
            ]
          },
          "metadata": {},
          "execution_count": 152
        }
      ],
      "source": [
        "def get_date_after(n):\n",
        "    base_date = date(2020, 3, 31)\n",
        "    target_date = base_date + timedelta(days=n)\n",
        "    return target_date.isoformat()\n",
        "\n",
        "data4 = pd.DataFrame(pred2)\n",
        "dates = []\n",
        "for i in range(0,92):\n",
        "    dates.append(get_date_after(i))\n",
        "data4['event_date'] = dates\n",
        "#len(data3)\n",
        "data4['APP_APPLICATION_OPEN_UU'] = pred2\n",
        "new_row = pd.DataFrame({ 'predicted_mean':7266711, 'event_date':'2020-03-31','APP_APPLICATION_OPEN_UU':7266711}, index =[0])\n",
        " \n",
        "# Concatenate new_row with df\n",
        "data4 = pd.concat([new_row, data4[:]]).reset_index(drop = True)\n",
        "data4 = data4.drop(['predicted_mean'], axis=1)\n",
        "data4"
      ]
    },
    {
      "cell_type": "markdown",
      "metadata": {
        "id": "excQT6fiPit3"
      },
      "source": [
        "**Visualization Q2:**"
      ]
    },
    {
      "cell_type": "code",
      "execution_count": 153,
      "metadata": {
        "colab": {
          "base_uri": "https://localhost:8080/",
          "height": 281
        },
        "id": "vJra4mQ8Pit4",
        "outputId": "f970355d-b21d-4e60-afd7-17408742257f"
      },
      "outputs": [
        {
          "output_type": "display_data",
          "data": {
            "text/plain": [
              "<Figure size 432x288 with 1 Axes>"
            ],
            "image/png": "[encoded data removed]"
          },
          "metadata": {
            "needs_background": "light"
          }
        }
      ],
      "source": [
        "# 2nd Quarter Predictions\n",
        "fig, ax = plt.subplots()\n",
        "\n",
        "ax.plot(data['event_date'].tail(100), data['APP_APPLICATION_OPEN_UU'].tail(100), color='blue')\n",
        "\n",
        "# Create a line chart for df2\n",
        "ax.plot(pd.to_datetime(data4['event_date'].to_list()), data4['APP_APPLICATION_OPEN_UU'], color='red')\n",
        "\n",
        "#ax.set_xticklabels(['1st Quarter'])\n",
        "\n",
        "def format_ytick(value, _):\n",
        "    return '1st quarter'\n",
        "\n",
        "ax.set_xticklabels(['Q1',' ','','April','May','June'])\n",
        "\n",
        "plt.ylabel('Number of App Opens')\n",
        "\n",
        "# Set chart title\n",
        "plt.title('Trend in 2nd')\n",
        "plt.show()"
      ]
    },
    {
      "cell_type": "markdown",
      "source": [
        "# **Why we think our model is accurate**"
      ],
      "metadata": {
        "id": "PDnfXqSB0H5k"
      }
    },
    {
      "cell_type": "markdown",
      "source": [
        "**Increase rate in snapchat usage from the fourth quarter in 2019 to second quarter in 2020**\n",
        "\n",
        "Increase rate = new value / (old value + new value)"
      ],
      "metadata": {
        "id": "yvTNeWUK-aCT"
      }
    },
    {
      "cell_type": "code",
      "source": [
        "nineteen = grouped_data[273:-81] \n",
        "avg_users1 = mean(nineteen['APP_APPLICATION_OPEN_UU']) \n",
        "avg_users1"
      ],
      "metadata": {
        "colab": {
          "base_uri": "https://localhost:8080/"
        },
        "id": "U27d9unKzbDq",
        "outputId": "17d92806-b0ee-41e5-b3a0-e91b5f3d036a"
      },
      "execution_count": 176,
      "outputs": [
        {
          "output_type": "execute_result",
          "data": {
            "text/plain": [
              "6969846.260869565"
            ]
          },
          "metadata": {},
          "execution_count": 176
        }
      ]
    },
    {
      "cell_type": "code",
      "source": [
        "model=ARIMA(training['APP_APPLICATION_OPEN_UU'],order=(2,1,1))\n",
        "model_fit=model.fit()\n",
        "model_fit.summary()   \n",
        "pred2 = model_fit.predict(start=175 , end= 266).astype(float).astype(int)\n",
        "avg_users2 = pred2.mean()\n",
        "avg_users2 "
      ],
      "metadata": {
        "colab": {
          "base_uri": "https://localhost:8080/"
        },
        "id": "dm7O2lytzkgd",
        "outputId": "868ea9d8-308b-4294-8c11-4363e4e096cb"
      },
      "execution_count": 177,
      "outputs": [
        {
          "output_type": "execute_result",
          "data": {
            "text/plain": [
              "7273120.739130435"
            ]
          },
          "metadata": {},
          "execution_count": 177
        }
      ]
    },
    {
      "cell_type": "code",
      "source": [
        "# Increase in snapchat opens from 2019 Q4 to 2020 Q1\n",
        "incease_rate = ((avg_users2-avg_users1) / avg_users2) * 100\n",
        "incease_rate = round(incease_rate, 2)\n",
        "print('Predicted increase in snapchat opens from Q4 (2019) to Q1 (2020): ' + str(incease_rate)+ '%')"
      ],
      "metadata": {
        "colab": {
          "base_uri": "https://localhost:8080/"
        },
        "id": "1Si_94FCzmms",
        "outputId": "04f705b0-1701-4073-eff4-bb29ac56ee2b"
      },
      "execution_count": 178,
      "outputs": [
        {
          "output_type": "stream",
          "name": "stdout",
          "text": [
            "Predicted increase in snapchat opens from Q4 (2019) to Q1 (2020): 4.17%\n"
          ]
        }
      ]
    },
    {
      "cell_type": "markdown",
      "source": [
        "**Rate of increase in snapchat users from the fourth quarter in 2019 to second quarter in 2020 (world data)**\n",
        "\n",
        "https://backlinko.com/snapchat-users"
      ],
      "metadata": {
        "id": "oM-m5r7X-zil"
      }
    },
    {
      "cell_type": "markdown",
      "source": [
        "![snap_.png](data:image/png;base64,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)"
      ],
      "metadata": {
        "id": "kOKN_DrC_0C2"
      }
    },
    {
      "cell_type": "code",
      "source": [
        "increase_rate2 =  (90-86)/86\n",
        "increase_rate2 = round(increase_rate2, 2)*100\n",
        "print('Increase in snapchat users from Q4 (2019) to Q1 (2020): ' + str(increase_rate2) + '%')"
      ],
      "metadata": {
        "colab": {
          "base_uri": "https://localhost:8080/"
        },
        "id": "Zi4mDsQd-QXu",
        "outputId": "26aba74c-115a-447c-84b5-850fcdf8a510"
      },
      "execution_count": 169,
      "outputs": [
        {
          "output_type": "stream",
          "name": "stdout",
          "text": [
            "Increase in snapchat users from Q4 (2019) to Q1 (2020): 5.0%\n"
          ]
        }
      ]
    },
    {
      "cell_type": "markdown",
      "source": [
        "# **Conclusion:**\n",
        "\n",
        "Based on our analysis, we were able to predict that the average daily unique users for the three countries in the **end of Q1 would be 7,268,630** and in **Q2 would be 7,273,120**. Our analysis revealed that the predicted increase in usage rate for the selected three countries from Q4 of 2019 to Q2 of 2020 (4.17%) was similar to the increase rate of Snapchat users globally during the same period (5%). This finding suggests that the usage trends in these countries were in line with the global trends, and the predictions we made using our model were reasonably accurate. However, it is important to note that this does not directly confirm the performance of our model, as there may be other factors influencing the trends that were not accounted for in our analysis. Nonetheless, this comparison provides valuable insight into how the usage of these countries compares to global trends."
      ],
      "metadata": {
        "id": "2X6AAGYzMSrK"
      }
    },
    {
      "cell_type": "code",
      "source": [],
      "metadata": {
        "id": "f2iSVH_lP6as"
      },
      "execution_count": null,
      "outputs": []
    }
  ],
  "metadata": {
    "kernelspec": {
      "display_name": "Python 3",
      "language": "python",
      "name": "python3"
    },
    "language_info": {
      "codemirror_mode": {
        "name": "ipython",
        "version": 3
      },
      "file_extension": ".py",
      "mimetype": "text/x-python",
      "name": "python",
      "nbconvert_exporter": "python",
      "pygments_lexer": "ipython3",
      "version": "3.10.10"
    },
    "orig_nbformat": 4,
    "vscode": {
      "interpreter": {
        "hash": "5c1f741a4f83aa020b4b2a4d7353a073a4e5e4a855a3258a20da40294ddbf005"
      }
    },
    "colab": {
      "provenance": [],
      "include_colab_link": true
    }
  },
  "nbformat": 4,
  "nbformat_minor": 0
}