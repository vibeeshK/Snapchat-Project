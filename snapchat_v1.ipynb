{
  "cells": [
    {
      "cell_type": "markdown",
      "metadata": {
        "id": "view-in-github",
        "colab_type": "text"
      },
      "source": [
        "<a href=\"https://colab.research.google.com/github/vibeeshK/Snapchat-Project/blob/main/snapchat_v1.ipynb\" target=\"_parent\"><img src=\"https://colab.research.google.com/assets/colab-badge.svg\" alt=\"Open In Colab\"/></a>"
      ]
    },
    {
      "cell_type": "markdown",
      "source": [
        "# **Snapchat Usage Analysis**\n",
        "- Vibeesh Kamalakannan, Rasa Blourtchi, Raghav Arora"
      ],
      "metadata": {
        "id": "qvJysHFqFjlm"
      }
    },
    {
      "cell_type": "markdown",
      "source": [
        "# **Introduction**\n",
        "Our project focuses on analyzing daily user data from Snapchat for the years 2019 and 2020 in Norway, Denmark, and Sweden. All three countries, Norway, Sweden, and Denmark, implemented their first set of COVID-19 restrictions in March 2020, with measures introduced in the middle of the month.\n",
        "\n",
        "The aim of our first task was to predict the average Snapchat usage during the last 10 days of the first quarter of 2020, taking into account the anomaly caused by the COVID-19 lockdown. To achieve this, we implemented an ARIMA model with an order of (1,1,1) that eliminates seasonality and yearly trends. By incorporating this model, we were able to make accurate predictions that account for the impact of the lockdown on Snapchat usage. We remove trends because we are trying to find the average usage throughout the quarter and not the daily trend.\n",
        "\n",
        "Our next task was to predict the average Snapchat usage during the second quarter of 2020. To accomplish this, we utilized the same ARIMA model as before, but this time we trained it on data from weekends and holidays from 2019, December 2019, and the first quarter of 2020. Additionally, we incorporated our predictions from the first task to refine our predictions further. \n",
        "\n",
        "**Why 'APP_APPLICATION_OPEN_UU' is the best metric to track:**\n",
        "The number of unique users using an app in a day is a good metric to track because it provides an indication of the popularity and reach of the app.The number of unique users can provide insight into how many people are actively using the app on a given day, which can be an indicator of user engagement. The more users engage with the app, the more likely they are to continue using it and recommending it to others. Additionally, Tracking the number of unique users over time can help app developers understand how the app is growing in popularity. An increase in the number of unique users over time suggests that the app is gaining more traction among users."
      ],
      "metadata": {
        "id": "akhLv9F9UwRG"
      }
    },
    {
      "cell_type": "markdown",
      "source": [
        "**Import Libraries**"
      ],
      "metadata": {
        "id": "5qAfx2sBqSdP"
      }
    },
    {
      "cell_type": "code",
      "execution_count": 146,
      "metadata": {
        "id": "9iPAQEQxPiti"
      },
      "outputs": [],
      "source": [
        "import pandas as pd\n",
        "import datetime\n",
        "from statsmodels.tsa.arima.model import ARIMA\n",
        "import warnings\n",
        "import matplotlib.pyplot as plt\n",
        "from datetime import date, timedelta\n",
        "import matplotlib.pyplot as plt\n",
        "import matplotlib.ticker as ticker\n",
        "from datetime import date, timedelta\n",
        "from statistics import mean\n",
        "warnings.filterwarnings(\"ignore\")"
      ]
    },
    {
      "cell_type": "code",
      "execution_count": 129,
      "metadata": {
        "id": "ycNlyvj9Pito"
      },
      "outputs": [],
      "source": [
        "data = pd.read_csv('snap.csv')  "
      ]
    },
    {
      "cell_type": "markdown",
      "metadata": {
        "id": "HP18yetBPitp"
      },
      "source": [
        "**Feature Engineering: Day of the week:**"
      ]
    },
    {
      "cell_type": "code",
      "execution_count": 130,
      "metadata": {
        "colab": {
          "base_uri": "https://localhost:8080/",
          "height": 206
        },
        "id": "5NjGqJvgPitr",
        "outputId": "cfa53e6b-7a37-45cc-f0fb-e1a868cf69cb"
      },
      "outputs": [
        {
          "output_type": "execute_result",
          "data": {
            "text/plain": [
              "   event_date  APP_APPLICATION_OPEN_UU\n",
              "0  01-01-2019                  7012787\n",
              "1  01-01-2020                  7378613\n",
              "2  01-02-2019                  6522305\n",
              "3  01-02-2020                  6817444\n",
              "4  01-03-2019                  6457837"
            ],
            "text/html": [
              "\n",
              "  <div id=\"df-6ff12b7e-cbe9-44a3-a2ab-4a4ab6be05a4\">\n",
              "    <div class=\"colab-df-container\">\n",
              "      <div>\n",
              "<style scoped>\n",
              "    .dataframe tbody tr th:only-of-type {\n",
              "        vertical-align: middle;\n",
              "    }\n",
              "\n",
              "    .dataframe tbody tr th {\n",
              "        vertical-align: top;\n",
              "    }\n",
              "\n",
              "    .dataframe thead th {\n",
              "        text-align: right;\n",
              "    }\n",
              "</style>\n",
              "<table border=\"1\" class=\"dataframe\">\n",
              "  <thead>\n",
              "    <tr style=\"text-align: right;\">\n",
              "      <th></th>\n",
              "      <th>event_date</th>\n",
              "      <th>APP_APPLICATION_OPEN_UU</th>\n",
              "    </tr>\n",
              "  </thead>\n",
              "  <tbody>\n",
              "    <tr>\n",
              "      <th>0</th>\n",
              "      <td>01-01-2019</td>\n",
              "      <td>7012787</td>\n",
              "    </tr>\n",
              "    <tr>\n",
              "      <th>1</th>\n",
              "      <td>01-01-2020</td>\n",
              "      <td>7378613</td>\n",
              "    </tr>\n",
              "    <tr>\n",
              "      <th>2</th>\n",
              "      <td>01-02-2019</td>\n",
              "      <td>6522305</td>\n",
              "    </tr>\n",
              "    <tr>\n",
              "      <th>3</th>\n",
              "      <td>01-02-2020</td>\n",
              "      <td>6817444</td>\n",
              "    </tr>\n",
              "    <tr>\n",
              "      <th>4</th>\n",
              "      <td>01-03-2019</td>\n",
              "      <td>6457837</td>\n",
              "    </tr>\n",
              "  </tbody>\n",
              "</table>\n",
              "</div>\n",
              "      <button class=\"colab-df-convert\" onclick=\"convertToInteractive('df-6ff12b7e-cbe9-44a3-a2ab-4a4ab6be05a4')\"\n",
              "              title=\"Convert this dataframe to an interactive table.\"\n",
              "              style=\"display:none;\">\n",
              "        \n",
              "  <svg xmlns=\"http://www.w3.org/2000/svg\" height=\"24px\"viewBox=\"0 0 24 24\"\n",
              "       width=\"24px\">\n",
              "    <path d=\"M0 0h24v24H0V0z\" fill=\"none\"/>\n",
              "    <path d=\"M18.56 5.44l.94 2.06.94-2.06 2.06-.94-2.06-.94-.94-2.06-.94 2.06-2.06.94zm-11 1L8.5 8.5l.94-2.06 2.06-.94-2.06-.94L8.5 2.5l-.94 2.06-2.06.94zm10 10l.94 2.06.94-2.06 2.06-.94-2.06-.94-.94-2.06-.94 2.06-2.06.94z\"/><path d=\"M17.41 7.96l-1.37-1.37c-.4-.4-.92-.59-1.43-.59-.52 0-1.04.2-1.43.59L10.3 9.45l-7.72 7.72c-.78.78-.78 2.05 0 2.83L4 21.41c.39.39.9.59 1.41.59.51 0 1.02-.2 1.41-.59l7.78-7.78 2.81-2.81c.8-.78.8-2.07 0-2.86zM5.41 20L4 18.59l7.72-7.72 1.47 1.35L5.41 20z\"/>\n",
              "  </svg>\n",
              "      </button>\n",
              "      \n",
              "  <style>\n",
              "    .colab-df-container {\n",
              "      display:flex;\n",
              "      flex-wrap:wrap;\n",
              "      gap: 12px;\n",
              "    }\n",
              "\n",
              "    .colab-df-convert {\n",
              "      background-color: #E8F0FE;\n",
              "      border: none;\n",
              "      border-radius: 50%;\n",
              "      cursor: pointer;\n",
              "      display: none;\n",
              "      fill: #1967D2;\n",
              "      height: 32px;\n",
              "      padding: 0 0 0 0;\n",
              "      width: 32px;\n",
              "    }\n",
              "\n",
              "    .colab-df-convert:hover {\n",
              "      background-color: #E2EBFA;\n",
              "      box-shadow: 0px 1px 2px rgba(60, 64, 67, 0.3), 0px 1px 3px 1px rgba(60, 64, 67, 0.15);\n",
              "      fill: #174EA6;\n",
              "    }\n",
              "\n",
              "    [theme=dark] .colab-df-convert {\n",
              "      background-color: #3B4455;\n",
              "      fill: #D2E3FC;\n",
              "    }\n",
              "\n",
              "    [theme=dark] .colab-df-convert:hover {\n",
              "      background-color: #434B5C;\n",
              "      box-shadow: 0px 1px 3px 1px rgba(0, 0, 0, 0.15);\n",
              "      filter: drop-shadow(0px 1px 2px rgba(0, 0, 0, 0.3));\n",
              "      fill: #FFFFFF;\n",
              "    }\n",
              "  </style>\n",
              "\n",
              "      <script>\n",
              "        const buttonEl =\n",
              "          document.querySelector('#df-6ff12b7e-cbe9-44a3-a2ab-4a4ab6be05a4 button.colab-df-convert');\n",
              "        buttonEl.style.display =\n",
              "          google.colab.kernel.accessAllowed ? 'block' : 'none';\n",
              "\n",
              "        async function convertToInteractive(key) {\n",
              "          const element = document.querySelector('#df-6ff12b7e-cbe9-44a3-a2ab-4a4ab6be05a4');\n",
              "          const dataTable =\n",
              "            await google.colab.kernel.invokeFunction('convertToInteractive',\n",
              "                                                     [key], {});\n",
              "          if (!dataTable) return;\n",
              "\n",
              "          const docLinkHtml = 'Like what you see? Visit the ' +\n",
              "            '<a target=\"_blank\" href=https://colab.research.google.com/notebooks/data_table.ipynb>data table notebook</a>'\n",
              "            + ' to learn more about interactive tables.';\n",
              "          element.innerHTML = '';\n",
              "          dataTable['output_type'] = 'display_data';\n",
              "          await google.colab.output.renderOutput(dataTable, element);\n",
              "          const docLink = document.createElement('div');\n",
              "          docLink.innerHTML = docLinkHtml;\n",
              "          element.appendChild(docLink);\n",
              "        }\n",
              "      </script>\n",
              "    </div>\n",
              "  </div>\n",
              "  "
            ]
          },
          "metadata": {},
          "execution_count": 130
        }
      ],
      "source": [
        "from datetime import datetime\n",
        "\n",
        "def get_day_of_week(date_str):\n",
        "    date_formats = [\"%m/%d/%y\", \"%m-%d-%y\", \"%m-%d-%Y\", \"%m/%d/%Y\"]\n",
        "    for date_format in date_formats:\n",
        "        try:\n",
        "            date_obj = datetime.strptime(date_str, date_format)\n",
        "            break \n",
        "        except ValueError:\n",
        "            pass \n",
        "    else:\n",
        "        raise ValueError(f\"Invalid date string: {date_str}\")\n",
        "\n",
        "    day_of_week = date_obj.weekday()\n",
        "    days = [\"Monday\", \"Tuesday\", \"Wednesday\", \"Thursday\", \"Friday\", \"Saturday\", \"Sunday\"]\n",
        "    day_of_week_str = days[day_of_week]\n",
        "\n",
        "    return (day_of_week_str)\n",
        "\n",
        "dates = []\n",
        "days = [] \n",
        "for i in data['event_date'].to_list():\n",
        "    days.append(get_day_of_week(i)[0])\n",
        "data['day'] = days\n",
        "data =data.groupby(by='event_date')['APP_APPLICATION_OPEN_UU'].sum().reset_index()\n",
        "data.head()"
      ]
    },
    {
      "cell_type": "markdown",
      "metadata": {
        "id": "2KjELTARPitu"
      },
      "source": [
        "# **Question 1**\n",
        "We changed the hyperparameter 'order' (1,1,1) so that we eliminate seasonality, trends from previous months. Thus, the lockdown is accounted for. We want the model to learn from the first day of March and learn the trend during the middle of March when Covid restrictions were implimented."
      ]
    },
    {
      "cell_type": "code",
      "execution_count": 131,
      "metadata": {
        "id": "1ND3vXPKPitu"
      },
      "outputs": [],
      "source": [
        "grouped_data =data.groupby(by='event_date')['APP_APPLICATION_OPEN_UU'].sum().reset_index()\n",
        "grouped_data['event_date'] = pd.to_datetime(grouped_data['event_date'], infer_datetime_format=True).dt.date\n",
        "grouped_data = grouped_data.sort_values(by='event_date', ascending=True)\n",
        "data = grouped_data\n",
        " \n",
        "# Model\n",
        "model=ARIMA(data['APP_APPLICATION_OPEN_UU'],order=(1,1,1))\n",
        "model_fit=model.fit()\n",
        "model_fit.summary()   \n",
        "\n",
        "pred1 = model_fit.predict(start=447 , end= 456).astype(float).astype(int)"
      ]
    },
    {
      "cell_type": "markdown",
      "metadata": {
        "id": "DGLRky7mPitw"
      },
      "source": [
        "**Merging Predictions with original dataset**"
      ]
    },
    {
      "cell_type": "code",
      "execution_count": 132,
      "metadata": {
        "colab": {
          "base_uri": "https://localhost:8080/",
          "height": 394
        },
        "id": "lz-Mh7ykPitw",
        "outputId": "dcf25827-8faf-4547-939c-ab25d0f6ceed"
      },
      "outputs": [
        {
          "output_type": "execute_result",
          "data": {
            "text/plain": [
              "    event_date  APP_APPLICATION_OPEN_UU\n",
              "0   2020-03-21                  7289909\n",
              "1   2020-03-22                  7274803\n",
              "2   2020-03-23                  7271475\n",
              "3   2020-03-24                  7269503\n",
              "4   2020-03-25                  7268335\n",
              "5   2020-03-26                  7267643\n",
              "6   2020-03-27                  7267234\n",
              "7   2020-03-28                  7266991\n",
              "8   2020-03-29                  7266847\n",
              "9   2020-03-30                  7266762\n",
              "10  2020-03-31                  7266711"
            ],
            "text/html": [
              "\n",
              "  <div id=\"df-930c779a-6e63-48ba-8b9f-78b78a315950\">\n",
              "    <div class=\"colab-df-container\">\n",
              "      <div>\n",
              "<style scoped>\n",
              "    .dataframe tbody tr th:only-of-type {\n",
              "        vertical-align: middle;\n",
              "    }\n",
              "\n",
              "    .dataframe tbody tr th {\n",
              "        vertical-align: top;\n",
              "    }\n",
              "\n",
              "    .dataframe thead th {\n",
              "        text-align: right;\n",
              "    }\n",
              "</style>\n",
              "<table border=\"1\" class=\"dataframe\">\n",
              "  <thead>\n",
              "    <tr style=\"text-align: right;\">\n",
              "      <th></th>\n",
              "      <th>event_date</th>\n",
              "      <th>APP_APPLICATION_OPEN_UU</th>\n",
              "    </tr>\n",
              "  </thead>\n",
              "  <tbody>\n",
              "    <tr>\n",
              "      <th>0</th>\n",
              "      <td>2020-03-21</td>\n",
              "      <td>7289909</td>\n",
              "    </tr>\n",
              "    <tr>\n",
              "      <th>1</th>\n",
              "      <td>2020-03-22</td>\n",
              "      <td>7274803</td>\n",
              "    </tr>\n",
              "    <tr>\n",
              "      <th>2</th>\n",
              "      <td>2020-03-23</td>\n",
              "      <td>7271475</td>\n",
              "    </tr>\n",
              "    <tr>\n",
              "      <th>3</th>\n",
              "      <td>2020-03-24</td>\n",
              "      <td>7269503</td>\n",
              "    </tr>\n",
              "    <tr>\n",
              "      <th>4</th>\n",
              "      <td>2020-03-25</td>\n",
              "      <td>7268335</td>\n",
              "    </tr>\n",
              "    <tr>\n",
              "      <th>5</th>\n",
              "      <td>2020-03-26</td>\n",
              "      <td>7267643</td>\n",
              "    </tr>\n",
              "    <tr>\n",
              "      <th>6</th>\n",
              "      <td>2020-03-27</td>\n",
              "      <td>7267234</td>\n",
              "    </tr>\n",
              "    <tr>\n",
              "      <th>7</th>\n",
              "      <td>2020-03-28</td>\n",
              "      <td>7266991</td>\n",
              "    </tr>\n",
              "    <tr>\n",
              "      <th>8</th>\n",
              "      <td>2020-03-29</td>\n",
              "      <td>7266847</td>\n",
              "    </tr>\n",
              "    <tr>\n",
              "      <th>9</th>\n",
              "      <td>2020-03-30</td>\n",
              "      <td>7266762</td>\n",
              "    </tr>\n",
              "    <tr>\n",
              "      <th>10</th>\n",
              "      <td>2020-03-31</td>\n",
              "      <td>7266711</td>\n",
              "    </tr>\n",
              "  </tbody>\n",
              "</table>\n",
              "</div>\n",
              "      <button class=\"colab-df-convert\" onclick=\"convertToInteractive('df-930c779a-6e63-48ba-8b9f-78b78a315950')\"\n",
              "              title=\"Convert this dataframe to an interactive table.\"\n",
              "              style=\"display:none;\">\n",
              "        \n",
              "  <svg xmlns=\"http://www.w3.org/2000/svg\" height=\"24px\"viewBox=\"0 0 24 24\"\n",
              "       width=\"24px\">\n",
              "    <path d=\"M0 0h24v24H0V0z\" fill=\"none\"/>\n",
              "    <path d=\"M18.56 5.44l.94 2.06.94-2.06 2.06-.94-2.06-.94-.94-2.06-.94 2.06-2.06.94zm-11 1L8.5 8.5l.94-2.06 2.06-.94-2.06-.94L8.5 2.5l-.94 2.06-2.06.94zm10 10l.94 2.06.94-2.06 2.06-.94-2.06-.94-.94-2.06-.94 2.06-2.06.94z\"/><path d=\"M17.41 7.96l-1.37-1.37c-.4-.4-.92-.59-1.43-.59-.52 0-1.04.2-1.43.59L10.3 9.45l-7.72 7.72c-.78.78-.78 2.05 0 2.83L4 21.41c.39.39.9.59 1.41.59.51 0 1.02-.2 1.41-.59l7.78-7.78 2.81-2.81c.8-.78.8-2.07 0-2.86zM5.41 20L4 18.59l7.72-7.72 1.47 1.35L5.41 20z\"/>\n",
              "  </svg>\n",
              "      </button>\n",
              "      \n",
              "  <style>\n",
              "    .colab-df-container {\n",
              "      display:flex;\n",
              "      flex-wrap:wrap;\n",
              "      gap: 12px;\n",
              "    }\n",
              "\n",
              "    .colab-df-convert {\n",
              "      background-color: #E8F0FE;\n",
              "      border: none;\n",
              "      border-radius: 50%;\n",
              "      cursor: pointer;\n",
              "      display: none;\n",
              "      fill: #1967D2;\n",
              "      height: 32px;\n",
              "      padding: 0 0 0 0;\n",
              "      width: 32px;\n",
              "    }\n",
              "\n",
              "    .colab-df-convert:hover {\n",
              "      background-color: #E2EBFA;\n",
              "      box-shadow: 0px 1px 2px rgba(60, 64, 67, 0.3), 0px 1px 3px 1px rgba(60, 64, 67, 0.15);\n",
              "      fill: #174EA6;\n",
              "    }\n",
              "\n",
              "    [theme=dark] .colab-df-convert {\n",
              "      background-color: #3B4455;\n",
              "      fill: #D2E3FC;\n",
              "    }\n",
              "\n",
              "    [theme=dark] .colab-df-convert:hover {\n",
              "      background-color: #434B5C;\n",
              "      box-shadow: 0px 1px 3px 1px rgba(0, 0, 0, 0.15);\n",
              "      filter: drop-shadow(0px 1px 2px rgba(0, 0, 0, 0.3));\n",
              "      fill: #FFFFFF;\n",
              "    }\n",
              "  </style>\n",
              "\n",
              "      <script>\n",
              "        const buttonEl =\n",
              "          document.querySelector('#df-930c779a-6e63-48ba-8b9f-78b78a315950 button.colab-df-convert');\n",
              "        buttonEl.style.display =\n",
              "          google.colab.kernel.accessAllowed ? 'block' : 'none';\n",
              "\n",
              "        async function convertToInteractive(key) {\n",
              "          const element = document.querySelector('#df-930c779a-6e63-48ba-8b9f-78b78a315950');\n",
              "          const dataTable =\n",
              "            await google.colab.kernel.invokeFunction('convertToInteractive',\n",
              "                                                     [key], {});\n",
              "          if (!dataTable) return;\n",
              "\n",
              "          const docLinkHtml = 'Like what you see? Visit the ' +\n",
              "            '<a target=\"_blank\" href=https://colab.research.google.com/notebooks/data_table.ipynb>data table notebook</a>'\n",
              "            + ' to learn more about interactive tables.';\n",
              "          element.innerHTML = '';\n",
              "          dataTable['output_type'] = 'display_data';\n",
              "          await google.colab.output.renderOutput(dataTable, element);\n",
              "          const docLink = document.createElement('div');\n",
              "          docLink.innerHTML = docLinkHtml;\n",
              "          element.appendChild(docLink);\n",
              "        }\n",
              "      </script>\n",
              "    </div>\n",
              "  </div>\n",
              "  "
            ]
          },
          "metadata": {},
          "execution_count": 132
        }
      ],
      "source": [
        "def get_date_after(n):\n",
        "    base_date = date(2020, 3, 21)\n",
        "    target_date = base_date + timedelta(days=n)\n",
        "    return target_date.isoformat()\n",
        "\n",
        "data3 = pd.DataFrame(pred1)\n",
        "dates = []\n",
        "for i in range(1,11):\n",
        "    dates.append(get_date_after(i))\n",
        "data3['event_date'] = dates\n",
        "#len(data3)\n",
        "data3['APP_APPLICATION_OPEN_UU'] = data3['predicted_mean']\n",
        "new_row = pd.DataFrame({'predicted_mean':7289909, 'event_date':'2020-03-21','APP_APPLICATION_OPEN_UU':7289909}, index =[0])\n",
        " \n",
        "# Concatenate new_row with df\n",
        "data3 = pd.concat([new_row, data3[:]]).reset_index(drop = True)\n",
        "data3 = data3.drop(['predicted_mean'], axis=1)\n",
        "data3"
      ]
    },
    {
      "cell_type": "code",
      "source": [
        "Q1 = grouped_data[365:].append(data3)\n",
        "print('1st Quarter average usage: '+ str(mean(Q1['APP_APPLICATION_OPEN_UU'])))"
      ],
      "metadata": {
        "colab": {
          "base_uri": "https://localhost:8080/"
        },
        "id": "SlyuttyeWYQf",
        "outputId": "89ea83ba-482a-4fc9-ccff-a7814c6cad49"
      },
      "execution_count": 133,
      "outputs": [
        {
          "output_type": "stream",
          "name": "stdout",
          "text": [
            "1st Quarter average usage: 6955692.804347826\n"
          ]
        }
      ]
    },
    {
      "cell_type": "markdown",
      "metadata": {
        "id": "h-mkjR1nPity"
      },
      "source": [
        "**Visualizing Q1 of 2019 to Q1 of 2020**"
      ]
    },
    {
      "cell_type": "code",
      "execution_count": 134,
      "metadata": {
        "colab": {
          "base_uri": "https://localhost:8080/",
          "height": 295
        },
        "id": "2MTpgji0Pitz",
        "outputId": "6be30332-9c63-4bb3-e2a2-b72d044bbede"
      },
      "outputs": [
        {
          "output_type": "display_data",
          "data": {
            "text/plain": [
              "<Figure size 432x288 with 1 Axes>"
            ],
            "image/png": "[encoded data removed]"
          },
          "metadata": {
            "needs_background": "light"
          }
        }
      ],
      "source": [
        "# Trend from 2019\n",
        "\n",
        "plt.plot(data['event_date'], data['APP_APPLICATION_OPEN_UU'], color='blue')\n",
        "plt.plot(pd.to_datetime(data3['event_date'].to_list()), data3['APP_APPLICATION_OPEN_UU'], color='red')\n",
        "plt.ylabel('Number of App Opens')\n",
        "plt.xlabel('Month')\n",
        "plt.title('Trend in 2019 - 2020')\n",
        "plt.show()"
      ]
    },
    {
      "cell_type": "markdown",
      "source": [
        "**Visualizing Q1**"
      ],
      "metadata": {
        "id": "aq8cebKvEAlH"
      }
    },
    {
      "cell_type": "code",
      "execution_count": 135,
      "metadata": {
        "colab": {
          "base_uri": "https://localhost:8080/",
          "height": 281
        },
        "id": "HCjcV97nPit0",
        "outputId": "472588e3-81cf-492c-c08e-270fbe678ab8"
      },
      "outputs": [
        {
          "output_type": "display_data",
          "data": {
            "text/plain": [
              "<Figure size 432x288 with 1 Axes>"
            ],
            "image/png": "[encoded data removed]"
          },
          "metadata": {
            "needs_background": "light"
          }
        }
      ],
      "source": [
        "# Just 1st Quarter\n",
        "fig, ax = plt.subplots()\n",
        "\n",
        "ax.plot(data['event_date'].tail(100), data['APP_APPLICATION_OPEN_UU'].tail(100), color='blue')\n",
        "ax.plot(pd.to_datetime(data3['event_date'].to_list()), data3['APP_APPLICATION_OPEN_UU'], color='red')\n",
        "\n",
        "def format_ytick(value, _):\n",
        "    return '1st quarter'\n",
        "\n",
        "ax.set_xticklabels(['January 2021',' ','','Febuary 2021','','','March 2021']) \n",
        "\n",
        "plt.ylabel('Number of App Opens')\n",
        "\n",
        "plt.title('Trend in 1st Quarter')\n",
        "\n",
        "plt.show()"
      ]
    },
    {
      "cell_type": "markdown",
      "metadata": {
        "id": "-4fg1-LzPit1"
      },
      "source": [
        "# **Question 2**"
      ]
    },
    {
      "cell_type": "markdown",
      "metadata": {
        "id": "HSPLHlLgPit1"
      },
      "source": [
        "**Joining Quarter 1 predictions**"
      ]
    },
    {
      "cell_type": "code",
      "execution_count": 136,
      "metadata": {
        "colab": {
          "base_uri": "https://localhost:8080/",
          "height": 423
        },
        "id": "dZkj6Gx3Pit1",
        "outputId": "1effe76a-7279-44b0-d624-1254792d1dc3"
      },
      "outputs": [
        {
          "output_type": "execute_result",
          "data": {
            "text/plain": [
              "   event_date  APP_APPLICATION_OPEN_UU        day\n",
              "0  2019-01-01                  7012787    Tuesday\n",
              "2  2019-01-02                  6522305  Wednesday\n",
              "4  2019-01-03                  6457837   Thursday\n",
              "6  2019-01-04                  6529505     Friday\n",
              "8  2019-01-05                  6650731   Saturday\n",
              "..        ...                      ...        ...\n",
              "6  2020-03-27                  7267234     Friday\n",
              "7  2020-03-28                  7266991   Saturday\n",
              "8  2020-03-29                  7266847     Sunday\n",
              "9  2020-03-30                  7266762     Monday\n",
              "10 2020-03-31                  7266711    Tuesday\n",
              "\n",
              "[456 rows x 3 columns]"
            ],
            "text/html": [
              "\n",
              "  <div id=\"df-486580ab-6a8a-4b82-854a-39e2adf69caf\">\n",
              "    <div class=\"colab-df-container\">\n",
              "      <div>\n",
              "<style scoped>\n",
              "    .dataframe tbody tr th:only-of-type {\n",
              "        vertical-align: middle;\n",
              "    }\n",
              "\n",
              "    .dataframe tbody tr th {\n",
              "        vertical-align: top;\n",
              "    }\n",
              "\n",
              "    .dataframe thead th {\n",
              "        text-align: right;\n",
              "    }\n",
              "</style>\n",
              "<table border=\"1\" class=\"dataframe\">\n",
              "  <thead>\n",
              "    <tr style=\"text-align: right;\">\n",
              "      <th></th>\n",
              "      <th>event_date</th>\n",
              "      <th>APP_APPLICATION_OPEN_UU</th>\n",
              "      <th>day</th>\n",
              "    </tr>\n",
              "  </thead>\n",
              "  <tbody>\n",
              "    <tr>\n",
              "      <th>0</th>\n",
              "      <td>2019-01-01</td>\n",
              "      <td>7012787</td>\n",
              "      <td>Tuesday</td>\n",
              "    </tr>\n",
              "    <tr>\n",
              "      <th>2</th>\n",
              "      <td>2019-01-02</td>\n",
              "      <td>6522305</td>\n",
              "      <td>Wednesday</td>\n",
              "    </tr>\n",
              "    <tr>\n",
              "      <th>4</th>\n",
              "      <td>2019-01-03</td>\n",
              "      <td>6457837</td>\n",
              "      <td>Thursday</td>\n",
              "    </tr>\n",
              "    <tr>\n",
              "      <th>6</th>\n",
              "      <td>2019-01-04</td>\n",
              "      <td>6529505</td>\n",
              "      <td>Friday</td>\n",
              "    </tr>\n",
              "    <tr>\n",
              "      <th>8</th>\n",
              "      <td>2019-01-05</td>\n",
              "      <td>6650731</td>\n",
              "      <td>Saturday</td>\n",
              "    </tr>\n",
              "    <tr>\n",
              "      <th>...</th>\n",
              "      <td>...</td>\n",
              "      <td>...</td>\n",
              "      <td>...</td>\n",
              "    </tr>\n",
              "    <tr>\n",
              "      <th>6</th>\n",
              "      <td>2020-03-27</td>\n",
              "      <td>7267234</td>\n",
              "      <td>Friday</td>\n",
              "    </tr>\n",
              "    <tr>\n",
              "      <th>7</th>\n",
              "      <td>2020-03-28</td>\n",
              "      <td>7266991</td>\n",
              "      <td>Saturday</td>\n",
              "    </tr>\n",
              "    <tr>\n",
              "      <th>8</th>\n",
              "      <td>2020-03-29</td>\n",
              "      <td>7266847</td>\n",
              "      <td>Sunday</td>\n",
              "    </tr>\n",
              "    <tr>\n",
              "      <th>9</th>\n",
              "      <td>2020-03-30</td>\n",
              "      <td>7266762</td>\n",
              "      <td>Monday</td>\n",
              "    </tr>\n",
              "    <tr>\n",
              "      <th>10</th>\n",
              "      <td>2020-03-31</td>\n",
              "      <td>7266711</td>\n",
              "      <td>Tuesday</td>\n",
              "    </tr>\n",
              "  </tbody>\n",
              "</table>\n",
              "<p>456 rows × 3 columns</p>\n",
              "</div>\n",
              "      <button class=\"colab-df-convert\" onclick=\"convertToInteractive('df-486580ab-6a8a-4b82-854a-39e2adf69caf')\"\n",
              "              title=\"Convert this dataframe to an interactive table.\"\n",
              "              style=\"display:none;\">\n",
              "        \n",
              "  <svg xmlns=\"http://www.w3.org/2000/svg\" height=\"24px\"viewBox=\"0 0 24 24\"\n",
              "       width=\"24px\">\n",
              "    <path d=\"M0 0h24v24H0V0z\" fill=\"none\"/>\n",
              "    <path d=\"M18.56 5.44l.94 2.06.94-2.06 2.06-.94-2.06-.94-.94-2.06-.94 2.06-2.06.94zm-11 1L8.5 8.5l.94-2.06 2.06-.94-2.06-.94L8.5 2.5l-.94 2.06-2.06.94zm10 10l.94 2.06.94-2.06 2.06-.94-2.06-.94-.94-2.06-.94 2.06-2.06.94z\"/><path d=\"M17.41 7.96l-1.37-1.37c-.4-.4-.92-.59-1.43-.59-.52 0-1.04.2-1.43.59L10.3 9.45l-7.72 7.72c-.78.78-.78 2.05 0 2.83L4 21.41c.39.39.9.59 1.41.59.51 0 1.02-.2 1.41-.59l7.78-7.78 2.81-2.81c.8-.78.8-2.07 0-2.86zM5.41 20L4 18.59l7.72-7.72 1.47 1.35L5.41 20z\"/>\n",
              "  </svg>\n",
              "      </button>\n",
              "      \n",
              "  <style>\n",
              "    .colab-df-container {\n",
              "      display:flex;\n",
              "      flex-wrap:wrap;\n",
              "      gap: 12px;\n",
              "    }\n",
              "\n",
              "    .colab-df-convert {\n",
              "      background-color: #E8F0FE;\n",
              "      border: none;\n",
              "      border-radius: 50%;\n",
              "      cursor: pointer;\n",
              "      display: none;\n",
              "      fill: #1967D2;\n",
              "      height: 32px;\n",
              "      padding: 0 0 0 0;\n",
              "      width: 32px;\n",
              "    }\n",
              "\n",
              "    .colab-df-convert:hover {\n",
              "      background-color: #E2EBFA;\n",
              "      box-shadow: 0px 1px 2px rgba(60, 64, 67, 0.3), 0px 1px 3px 1px rgba(60, 64, 67, 0.15);\n",
              "      fill: #174EA6;\n",
              "    }\n",
              "\n",
              "    [theme=dark] .colab-df-convert {\n",
              "      background-color: #3B4455;\n",
              "      fill: #D2E3FC;\n",
              "    }\n",
              "\n",
              "    [theme=dark] .colab-df-convert:hover {\n",
              "      background-color: #434B5C;\n",
              "      box-shadow: 0px 1px 3px 1px rgba(0, 0, 0, 0.15);\n",
              "      filter: drop-shadow(0px 1px 2px rgba(0, 0, 0, 0.3));\n",
              "      fill: #FFFFFF;\n",
              "    }\n",
              "  </style>\n",
              "\n",
              "      <script>\n",
              "        const buttonEl =\n",
              "          document.querySelector('#df-486580ab-6a8a-4b82-854a-39e2adf69caf button.colab-df-convert');\n",
              "        buttonEl.style.display =\n",
              "          google.colab.kernel.accessAllowed ? 'block' : 'none';\n",
              "\n",
              "        async function convertToInteractive(key) {\n",
              "          const element = document.querySelector('#df-486580ab-6a8a-4b82-854a-39e2adf69caf');\n",
              "          const dataTable =\n",
              "            await google.colab.kernel.invokeFunction('convertToInteractive',\n",
              "                                                     [key], {});\n",
              "          if (!dataTable) return;\n",
              "\n",
              "          const docLinkHtml = 'Like what you see? Visit the ' +\n",
              "            '<a target=\"_blank\" href=https://colab.research.google.com/notebooks/data_table.ipynb>data table notebook</a>'\n",
              "            + ' to learn more about interactive tables.';\n",
              "          element.innerHTML = '';\n",
              "          dataTable['output_type'] = 'display_data';\n",
              "          await google.colab.output.renderOutput(dataTable, element);\n",
              "          const docLink = document.createElement('div');\n",
              "          docLink.innerHTML = docLinkHtml;\n",
              "          element.appendChild(docLink);\n",
              "        }\n",
              "      </script>\n",
              "    </div>\n",
              "  </div>\n",
              "  "
            ]
          },
          "metadata": {},
          "execution_count": 136
        }
      ],
      "source": [
        "data = data.append(data3)\n",
        "data = data[data.event_date != '2020-03-21']\n",
        "data[\"event_date\"] = data[\"event_date\"].astype(str)\n",
        "data[\"event_date\"] = pd.to_datetime(data[\"event_date\"])\n",
        "data[\"day\"] = data[\"event_date\"].dt.day_name() \n",
        "data"
      ]
    },
    {
      "cell_type": "markdown",
      "metadata": {
        "id": "A-uE-AbBPit2"
      },
      "source": [
        "**Filtering to include the month of december, the weekends and American public holidays in 2019 and the first quarter of 2020 (Including the predictions made for question 1)**\n",
        "\n",
        "Holidays included:\n",
        "New Year's Day, Maundy Thursday, Good Friday, Easter Monday, Labor Day, Ascension Day, White Monday, Christmas Eve, Christmas Day, Boxing Day, New Year's Eve"
      ]
    },
    {
      "cell_type": "code",
      "execution_count": 137,
      "metadata": {
        "colab": {
          "base_uri": "https://localhost:8080/",
          "height": 423
        },
        "id": "qqut9WybPit2",
        "outputId": "2dca2837-fbb8-4bcd-c67a-1f7e1568bea1"
      },
      "outputs": [
        {
          "output_type": "execute_result",
          "data": {
            "text/plain": [
              "    event_date  APP_APPLICATION_OPEN_UU       day\n",
              "0   2019-01-01                  7012787   Tuesday\n",
              "8   2019-01-05                  6650731  Saturday\n",
              "10  2019-01-06                  6582407    Sunday\n",
              "22  2019-01-12                  6715600  Saturday\n",
              "144 2019-01-13                  6629332    Sunday\n",
              "..         ...                      ...       ...\n",
              "7   2020-03-28                  7266991  Saturday\n",
              "8   2020-03-29                  7266847    Sunday\n",
              "8   2020-03-29                  7266847    Sunday\n",
              "9   2020-03-30                  7266762    Monday\n",
              "10  2020-03-31                  7266711   Tuesday\n",
              "\n",
              "[174 rows x 3 columns]"
            ],
            "text/html": [
              "\n",
              "  <div id=\"df-e537cbd3-f8e9-4b0c-b70e-c26e66e5187c\">\n",
              "    <div class=\"colab-df-container\">\n",
              "      <div>\n",
              "<style scoped>\n",
              "    .dataframe tbody tr th:only-of-type {\n",
              "        vertical-align: middle;\n",
              "    }\n",
              "\n",
              "    .dataframe tbody tr th {\n",
              "        vertical-align: top;\n",
              "    }\n",
              "\n",
              "    .dataframe thead th {\n",
              "        text-align: right;\n",
              "    }\n",
              "</style>\n",
              "<table border=\"1\" class=\"dataframe\">\n",
              "  <thead>\n",
              "    <tr style=\"text-align: right;\">\n",
              "      <th></th>\n",
              "      <th>event_date</th>\n",
              "      <th>APP_APPLICATION_OPEN_UU</th>\n",
              "      <th>day</th>\n",
              "    </tr>\n",
              "  </thead>\n",
              "  <tbody>\n",
              "    <tr>\n",
              "      <th>0</th>\n",
              "      <td>2019-01-01</td>\n",
              "      <td>7012787</td>\n",
              "      <td>Tuesday</td>\n",
              "    </tr>\n",
              "    <tr>\n",
              "      <th>8</th>\n",
              "      <td>2019-01-05</td>\n",
              "      <td>6650731</td>\n",
              "      <td>Saturday</td>\n",
              "    </tr>\n",
              "    <tr>\n",
              "      <th>10</th>\n",
              "      <td>2019-01-06</td>\n",
              "      <td>6582407</td>\n",
              "      <td>Sunday</td>\n",
              "    </tr>\n",
              "    <tr>\n",
              "      <th>22</th>\n",
              "      <td>2019-01-12</td>\n",
              "      <td>6715600</td>\n",
              "      <td>Saturday</td>\n",
              "    </tr>\n",
              "    <tr>\n",
              "      <th>144</th>\n",
              "      <td>2019-01-13</td>\n",
              "      <td>6629332</td>\n",
              "      <td>Sunday</td>\n",
              "    </tr>\n",
              "    <tr>\n",
              "      <th>...</th>\n",
              "      <td>...</td>\n",
              "      <td>...</td>\n",
              "      <td>...</td>\n",
              "    </tr>\n",
              "    <tr>\n",
              "      <th>7</th>\n",
              "      <td>2020-03-28</td>\n",
              "      <td>7266991</td>\n",
              "      <td>Saturday</td>\n",
              "    </tr>\n",
              "    <tr>\n",
              "      <th>8</th>\n",
              "      <td>2020-03-29</td>\n",
              "      <td>7266847</td>\n",
              "      <td>Sunday</td>\n",
              "    </tr>\n",
              "    <tr>\n",
              "      <th>8</th>\n",
              "      <td>2020-03-29</td>\n",
              "      <td>7266847</td>\n",
              "      <td>Sunday</td>\n",
              "    </tr>\n",
              "    <tr>\n",
              "      <th>9</th>\n",
              "      <td>2020-03-30</td>\n",
              "      <td>7266762</td>\n",
              "      <td>Monday</td>\n",
              "    </tr>\n",
              "    <tr>\n",
              "      <th>10</th>\n",
              "      <td>2020-03-31</td>\n",
              "      <td>7266711</td>\n",
              "      <td>Tuesday</td>\n",
              "    </tr>\n",
              "  </tbody>\n",
              "</table>\n",
              "<p>174 rows × 3 columns</p>\n",
              "</div>\n",
              "      <button class=\"colab-df-convert\" onclick=\"convertToInteractive('df-e537cbd3-f8e9-4b0c-b70e-c26e66e5187c')\"\n",
              "              title=\"Convert this dataframe to an interactive table.\"\n",
              "              style=\"display:none;\">\n",
              "        \n",
              "  <svg xmlns=\"http://www.w3.org/2000/svg\" height=\"24px\"viewBox=\"0 0 24 24\"\n",
              "       width=\"24px\">\n",
              "    <path d=\"M0 0h24v24H0V0z\" fill=\"none\"/>\n",
              "    <path d=\"M18.56 5.44l.94 2.06.94-2.06 2.06-.94-2.06-.94-.94-2.06-.94 2.06-2.06.94zm-11 1L8.5 8.5l.94-2.06 2.06-.94-2.06-.94L8.5 2.5l-.94 2.06-2.06.94zm10 10l.94 2.06.94-2.06 2.06-.94-2.06-.94-.94-2.06-.94 2.06-2.06.94z\"/><path d=\"M17.41 7.96l-1.37-1.37c-.4-.4-.92-.59-1.43-.59-.52 0-1.04.2-1.43.59L10.3 9.45l-7.72 7.72c-.78.78-.78 2.05 0 2.83L4 21.41c.39.39.9.59 1.41.59.51 0 1.02-.2 1.41-.59l7.78-7.78 2.81-2.81c.8-.78.8-2.07 0-2.86zM5.41 20L4 18.59l7.72-7.72 1.47 1.35L5.41 20z\"/>\n",
              "  </svg>\n",
              "      </button>\n",
              "      \n",
              "  <style>\n",
              "    .colab-df-container {\n",
              "      display:flex;\n",
              "      flex-wrap:wrap;\n",
              "      gap: 12px;\n",
              "    }\n",
              "\n",
              "    .colab-df-convert {\n",
              "      background-color: #E8F0FE;\n",
              "      border: none;\n",
              "      border-radius: 50%;\n",
              "      cursor: pointer;\n",
              "      display: none;\n",
              "      fill: #1967D2;\n",
              "      height: 32px;\n",
              "      padding: 0 0 0 0;\n",
              "      width: 32px;\n",
              "    }\n",
              "\n",
              "    .colab-df-convert:hover {\n",
              "      background-color: #E2EBFA;\n",
              "      box-shadow: 0px 1px 2px rgba(60, 64, 67, 0.3), 0px 1px 3px 1px rgba(60, 64, 67, 0.15);\n",
              "      fill: #174EA6;\n",
              "    }\n",
              "\n",
              "    [theme=dark] .colab-df-convert {\n",
              "      background-color: #3B4455;\n",
              "      fill: #D2E3FC;\n",
              "    }\n",
              "\n",
              "    [theme=dark] .colab-df-convert:hover {\n",
              "      background-color: #434B5C;\n",
              "      box-shadow: 0px 1px 3px 1px rgba(0, 0, 0, 0.15);\n",
              "      filter: drop-shadow(0px 1px 2px rgba(0, 0, 0, 0.3));\n",
              "      fill: #FFFFFF;\n",
              "    }\n",
              "  </style>\n",
              "\n",
              "      <script>\n",
              "        const buttonEl =\n",
              "          document.querySelector('#df-e537cbd3-f8e9-4b0c-b70e-c26e66e5187c button.colab-df-convert');\n",
              "        buttonEl.style.display =\n",
              "          google.colab.kernel.accessAllowed ? 'block' : 'none';\n",
              "\n",
              "        async function convertToInteractive(key) {\n",
              "          const element = document.querySelector('#df-e537cbd3-f8e9-4b0c-b70e-c26e66e5187c');\n",
              "          const dataTable =\n",
              "            await google.colab.kernel.invokeFunction('convertToInteractive',\n",
              "                                                     [key], {});\n",
              "          if (!dataTable) return;\n",
              "\n",
              "          const docLinkHtml = 'Like what you see? Visit the ' +\n",
              "            '<a target=\"_blank\" href=https://colab.research.google.com/notebooks/data_table.ipynb>data table notebook</a>'\n",
              "            + ' to learn more about interactive tables.';\n",
              "          element.innerHTML = '';\n",
              "          dataTable['output_type'] = 'display_data';\n",
              "          await google.colab.output.renderOutput(dataTable, element);\n",
              "          const docLink = document.createElement('div');\n",
              "          docLink.innerHTML = docLinkHtml;\n",
              "          element.appendChild(docLink);\n",
              "        }\n",
              "      </script>\n",
              "    </div>\n",
              "  </div>\n",
              "  "
            ]
          },
          "metadata": {},
          "execution_count": 137
        }
      ],
      "source": [
        "# Holidays\n",
        "holidays = data[data['event_date'].isin(['2019-01-01','2019-04-18','2019-04-19','2019-04-22','2019-05-01','2019-05-30','2019-06-10','2019-12-24','2019-12-25','2019-12-26','2019-12-31'])]\n",
        "weekends = data[(data['day'] == 'Saturday') | (data['day'] == 'Sunday')] \n",
        "\n",
        "# December\n",
        "data[\"event_date\"] = pd.to_datetime(data[\"event_date\"])\n",
        "december = data[data[\"event_date\"].dt.month == 12]\n",
        "december = december[(december['day'] != 'Saturday')] \n",
        "december = december[(december['day'] != 'Sunday')] \n",
        "training = december.append(weekends)\n",
        "training = training.append(holidays)\n",
        "data3[\"event_date\"] = pd.to_datetime(data3[\"event_date\"])\n",
        "data3[\"day\"] = data3[\"event_date\"].dt.day_name() \n",
        "\n",
        "training = training.append(data3) \n",
        "training = training.sort_values(by='event_date', ascending=True) \n",
        "training"
      ]
    },
    {
      "cell_type": "markdown",
      "metadata": {
        "id": "Czvfn2P2Pit2"
      },
      "source": [
        "**Predictions for the 2nd Quarter**"
      ]
    },
    {
      "cell_type": "code",
      "execution_count": 138,
      "metadata": {
        "colab": {
          "base_uri": "https://localhost:8080/"
        },
        "id": "5eacIkOiPit2",
        "outputId": "221fa956-d5cd-4ac5-81fd-f9c37613b059"
      },
      "outputs": [
        {
          "output_type": "stream",
          "name": "stdout",
          "text": [
            "2nd quarter mean: 7343115.510869565\n"
          ]
        }
      ],
      "source": [
        "# Model\n",
        "model=ARIMA(training['APP_APPLICATION_OPEN_UU'],order=(3,1,2))\n",
        "model_fit=model.fit()\n",
        "model_fit.summary()   \n",
        "pred2 = model_fit.predict(start=175 , end= 266).astype(float).astype(int)\n",
        "second_q = pred2.mean()\n",
        "print('2nd quarter mean: ' +str(second_q) )"
      ]
    },
    {
      "cell_type": "markdown",
      "metadata": {
        "id": "qzcJB59RPit3"
      },
      "source": [
        "**Merge Predictions with original dataset to visualize**"
      ]
    },
    {
      "cell_type": "code",
      "execution_count": 139,
      "metadata": {
        "colab": {
          "base_uri": "https://localhost:8080/",
          "height": 423
        },
        "id": "26tPVSC5Pit3",
        "outputId": "ebd8f3e9-152a-461a-d29a-26d470b9e46b"
      },
      "outputs": [
        {
          "output_type": "execute_result",
          "data": {
            "text/plain": [
              "    event_date  APP_APPLICATION_OPEN_UU\n",
              "0   2020-03-31                  7266711\n",
              "1   2020-03-31                  7269525\n",
              "2   2020-04-01                  7285872\n",
              "3   2020-04-02                  7273206\n",
              "4   2020-04-03                  7289127\n",
              "..         ...                      ...\n",
              "88  2020-06-26                  7396117\n",
              "89  2020-06-27                  7392878\n",
              "90  2020-06-28                  7398062\n",
              "91  2020-06-29                  7394930\n",
              "92  2020-06-30                  7399984\n",
              "\n",
              "[93 rows x 2 columns]"
            ],
            "text/html": [
              "\n",
              "  <div id=\"df-34d81b55-19dd-48a6-9e81-5456376bce88\">\n",
              "    <div class=\"colab-df-container\">\n",
              "      <div>\n",
              "<style scoped>\n",
              "    .dataframe tbody tr th:only-of-type {\n",
              "        vertical-align: middle;\n",
              "    }\n",
              "\n",
              "    .dataframe tbody tr th {\n",
              "        vertical-align: top;\n",
              "    }\n",
              "\n",
              "    .dataframe thead th {\n",
              "        text-align: right;\n",
              "    }\n",
              "</style>\n",
              "<table border=\"1\" class=\"dataframe\">\n",
              "  <thead>\n",
              "    <tr style=\"text-align: right;\">\n",
              "      <th></th>\n",
              "      <th>event_date</th>\n",
              "      <th>APP_APPLICATION_OPEN_UU</th>\n",
              "    </tr>\n",
              "  </thead>\n",
              "  <tbody>\n",
              "    <tr>\n",
              "      <th>0</th>\n",
              "      <td>2020-03-31</td>\n",
              "      <td>7266711</td>\n",
              "    </tr>\n",
              "    <tr>\n",
              "      <th>1</th>\n",
              "      <td>2020-03-31</td>\n",
              "      <td>7269525</td>\n",
              "    </tr>\n",
              "    <tr>\n",
              "      <th>2</th>\n",
              "      <td>2020-04-01</td>\n",
              "      <td>7285872</td>\n",
              "    </tr>\n",
              "    <tr>\n",
              "      <th>3</th>\n",
              "      <td>2020-04-02</td>\n",
              "      <td>7273206</td>\n",
              "    </tr>\n",
              "    <tr>\n",
              "      <th>4</th>\n",
              "      <td>2020-04-03</td>\n",
              "      <td>7289127</td>\n",
              "    </tr>\n",
              "    <tr>\n",
              "      <th>...</th>\n",
              "      <td>...</td>\n",
              "      <td>...</td>\n",
              "    </tr>\n",
              "    <tr>\n",
              "      <th>88</th>\n",
              "      <td>2020-06-26</td>\n",
              "      <td>7396117</td>\n",
              "    </tr>\n",
              "    <tr>\n",
              "      <th>89</th>\n",
              "      <td>2020-06-27</td>\n",
              "      <td>7392878</td>\n",
              "    </tr>\n",
              "    <tr>\n",
              "      <th>90</th>\n",
              "      <td>2020-06-28</td>\n",
              "      <td>7398062</td>\n",
              "    </tr>\n",
              "    <tr>\n",
              "      <th>91</th>\n",
              "      <td>2020-06-29</td>\n",
              "      <td>7394930</td>\n",
              "    </tr>\n",
              "    <tr>\n",
              "      <th>92</th>\n",
              "      <td>2020-06-30</td>\n",
              "      <td>7399984</td>\n",
              "    </tr>\n",
              "  </tbody>\n",
              "</table>\n",
              "<p>93 rows × 2 columns</p>\n",
              "</div>\n",
              "      <button class=\"colab-df-convert\" onclick=\"convertToInteractive('df-34d81b55-19dd-48a6-9e81-5456376bce88')\"\n",
              "              title=\"Convert this dataframe to an interactive table.\"\n",
              "              style=\"display:none;\">\n",
              "        \n",
              "  <svg xmlns=\"http://www.w3.org/2000/svg\" height=\"24px\"viewBox=\"0 0 24 24\"\n",
              "       width=\"24px\">\n",
              "    <path d=\"M0 0h24v24H0V0z\" fill=\"none\"/>\n",
              "    <path d=\"M18.56 5.44l.94 2.06.94-2.06 2.06-.94-2.06-.94-.94-2.06-.94 2.06-2.06.94zm-11 1L8.5 8.5l.94-2.06 2.06-.94-2.06-.94L8.5 2.5l-.94 2.06-2.06.94zm10 10l.94 2.06.94-2.06 2.06-.94-2.06-.94-.94-2.06-.94 2.06-2.06.94z\"/><path d=\"M17.41 7.96l-1.37-1.37c-.4-.4-.92-.59-1.43-.59-.52 0-1.04.2-1.43.59L10.3 9.45l-7.72 7.72c-.78.78-.78 2.05 0 2.83L4 21.41c.39.39.9.59 1.41.59.51 0 1.02-.2 1.41-.59l7.78-7.78 2.81-2.81c.8-.78.8-2.07 0-2.86zM5.41 20L4 18.59l7.72-7.72 1.47 1.35L5.41 20z\"/>\n",
              "  </svg>\n",
              "      </button>\n",
              "      \n",
              "  <style>\n",
              "    .colab-df-container {\n",
              "      display:flex;\n",
              "      flex-wrap:wrap;\n",
              "      gap: 12px;\n",
              "    }\n",
              "\n",
              "    .colab-df-convert {\n",
              "      background-color: #E8F0FE;\n",
              "      border: none;\n",
              "      border-radius: 50%;\n",
              "      cursor: pointer;\n",
              "      display: none;\n",
              "      fill: #1967D2;\n",
              "      height: 32px;\n",
              "      padding: 0 0 0 0;\n",
              "      width: 32px;\n",
              "    }\n",
              "\n",
              "    .colab-df-convert:hover {\n",
              "      background-color: #E2EBFA;\n",
              "      box-shadow: 0px 1px 2px rgba(60, 64, 67, 0.3), 0px 1px 3px 1px rgba(60, 64, 67, 0.15);\n",
              "      fill: #174EA6;\n",
              "    }\n",
              "\n",
              "    [theme=dark] .colab-df-convert {\n",
              "      background-color: #3B4455;\n",
              "      fill: #D2E3FC;\n",
              "    }\n",
              "\n",
              "    [theme=dark] .colab-df-convert:hover {\n",
              "      background-color: #434B5C;\n",
              "      box-shadow: 0px 1px 3px 1px rgba(0, 0, 0, 0.15);\n",
              "      filter: drop-shadow(0px 1px 2px rgba(0, 0, 0, 0.3));\n",
              "      fill: #FFFFFF;\n",
              "    }\n",
              "  </style>\n",
              "\n",
              "      <script>\n",
              "        const buttonEl =\n",
              "          document.querySelector('#df-34d81b55-19dd-48a6-9e81-5456376bce88 button.colab-df-convert');\n",
              "        buttonEl.style.display =\n",
              "          google.colab.kernel.accessAllowed ? 'block' : 'none';\n",
              "\n",
              "        async function convertToInteractive(key) {\n",
              "          const element = document.querySelector('#df-34d81b55-19dd-48a6-9e81-5456376bce88');\n",
              "          const dataTable =\n",
              "            await google.colab.kernel.invokeFunction('convertToInteractive',\n",
              "                                                     [key], {});\n",
              "          if (!dataTable) return;\n",
              "\n",
              "          const docLinkHtml = 'Like what you see? Visit the ' +\n",
              "            '<a target=\"_blank\" href=https://colab.research.google.com/notebooks/data_table.ipynb>data table notebook</a>'\n",
              "            + ' to learn more about interactive tables.';\n",
              "          element.innerHTML = '';\n",
              "          dataTable['output_type'] = 'display_data';\n",
              "          await google.colab.output.renderOutput(dataTable, element);\n",
              "          const docLink = document.createElement('div');\n",
              "          docLink.innerHTML = docLinkHtml;\n",
              "          element.appendChild(docLink);\n",
              "        }\n",
              "      </script>\n",
              "    </div>\n",
              "  </div>\n",
              "  "
            ]
          },
          "metadata": {},
          "execution_count": 139
        }
      ],
      "source": [
        "def get_date_after(n):\n",
        "    base_date = date(2020, 3, 31)\n",
        "    target_date = base_date + timedelta(days=n)\n",
        "    return target_date.isoformat()\n",
        "\n",
        "data4 = pd.DataFrame(pred2)\n",
        "dates = []\n",
        "for i in range(0,92):\n",
        "    dates.append(get_date_after(i))\n",
        "data4['event_date'] = dates\n",
        "#len(data3)\n",
        "data4['APP_APPLICATION_OPEN_UU'] = pred2\n",
        "new_row = pd.DataFrame({ 'predicted_mean':7266711, 'event_date':'2020-03-31','APP_APPLICATION_OPEN_UU':7266711}, index =[0])\n",
        " \n",
        "# Concatenate new_row with df\n",
        "data4 = pd.concat([new_row, data4[:]]).reset_index(drop = True)\n",
        "data4 = data4.drop(['predicted_mean'], axis=1)\n",
        "data4"
      ]
    },
    {
      "cell_type": "markdown",
      "source": [
        "**Find range of usage in Q2**"
      ],
      "metadata": {
        "id": "S30rDOl0X5kR"
      }
    },
    {
      "cell_type": "code",
      "source": [
        "max = data4['APP_APPLICATION_OPEN_UU'].max()\n",
        "\n",
        "min = data4['APP_APPLICATION_OPEN_UU'].min()\n",
        "print('The range of average usage would be in between: ' +str(min) +' to '+ str(max) )"
      ],
      "metadata": {
        "colab": {
          "base_uri": "https://localhost:8080/"
        },
        "id": "9X6mLETlX491",
        "outputId": "2309cc38-4d9d-4de5-9079-b9bfabfd1275"
      },
      "execution_count": 140,
      "outputs": [
        {
          "output_type": "stream",
          "name": "stdout",
          "text": [
            "The range of average usage would be in between: 7266711 to 7399984\n"
          ]
        }
      ]
    },
    {
      "cell_type": "markdown",
      "metadata": {
        "id": "excQT6fiPit3"
      },
      "source": [
        "**Visualization Q2:**"
      ]
    },
    {
      "cell_type": "code",
      "execution_count": 141,
      "metadata": {
        "colab": {
          "base_uri": "https://localhost:8080/",
          "height": 281
        },
        "id": "vJra4mQ8Pit4",
        "outputId": "d1876efc-6678-4608-8b45-7f12d6f8ee09"
      },
      "outputs": [
        {
          "output_type": "display_data",
          "data": {
            "text/plain": [
              "<Figure size 432x288 with 1 Axes>"
            ],
            "image/png": "[encoded data removed]"
          },
          "metadata": {
            "needs_background": "light"
          }
        }
      ],
      "source": [
        "# 2nd Quarter Predictions\n",
        "fig, ax = plt.subplots()\n",
        "\n",
        "ax.plot(data['event_date'].tail(100), data['APP_APPLICATION_OPEN_UU'].tail(100), color='blue')\n",
        "\n",
        "# Create a line chart for df2\n",
        "ax.plot(pd.to_datetime(data4['event_date'].to_list()), data4['APP_APPLICATION_OPEN_UU'], color='red')\n",
        "\n",
        "#ax.set_xticklabels(['1st Quarter'])\n",
        "\n",
        "def format_ytick(value, _):\n",
        "    return '1st quarter'\n",
        "\n",
        "ax.set_xticklabels(['Q1',' ','','April','May','June'])\n",
        "\n",
        "plt.ylabel('Number of App Opens')\n",
        "\n",
        "# Set chart title\n",
        "plt.title('Trend in 2nd')\n",
        "plt.show()"
      ]
    },
    {
      "cell_type": "markdown",
      "source": [
        "# **Why we think our model is accurate**"
      ],
      "metadata": {
        "id": "PDnfXqSB0H5k"
      }
    },
    {
      "cell_type": "markdown",
      "source": [
        "**Increase rate in snapchat usage from the fourth quarter in 2019 to second quarter in 2020**\n",
        "\n",
        "Increase rate = new value / (old value + new value)"
      ],
      "metadata": {
        "id": "yvTNeWUK-aCT"
      }
    },
    {
      "cell_type": "code",
      "source": [
        "nineteen = grouped_data[273:-81] \n",
        "avg_users1 = mean(nineteen['APP_APPLICATION_OPEN_UU']) \n",
        "avg_users1"
      ],
      "metadata": {
        "colab": {
          "base_uri": "https://localhost:8080/"
        },
        "id": "U27d9unKzbDq",
        "outputId": "4e1bf44f-0d4c-4e29-b6f8-48449781a22c"
      },
      "execution_count": 142,
      "outputs": [
        {
          "output_type": "execute_result",
          "data": {
            "text/plain": [
              "6969846.260869565"
            ]
          },
          "metadata": {},
          "execution_count": 142
        }
      ]
    },
    {
      "cell_type": "code",
      "source": [
        "model=ARIMA(training['APP_APPLICATION_OPEN_UU'],order=(2,1,1))\n",
        "model_fit=model.fit()\n",
        "model_fit.summary()   \n",
        "pred2 = model_fit.predict(start=175 , end= 266).astype(float).astype(int)\n",
        "avg_users2 = pred2.mean()\n",
        "avg_users2 "
      ],
      "metadata": {
        "colab": {
          "base_uri": "https://localhost:8080/"
        },
        "id": "dm7O2lytzkgd",
        "outputId": "6f9cf151-a5cb-4042-fdb4-f3a806762c3c"
      },
      "execution_count": 143,
      "outputs": [
        {
          "output_type": "execute_result",
          "data": {
            "text/plain": [
              "7273120.739130435"
            ]
          },
          "metadata": {},
          "execution_count": 143
        }
      ]
    },
    {
      "cell_type": "code",
      "source": [
        "# Increase in snapchat opens from 2019 Q4 to 2020 Q1\n",
        "incease_rate = ((second_q-avg_users1) / second_q) * 100\n",
        "incease_rate = round(incease_rate, 2)\n",
        "print('Predicted increase in snapchat opens from Q4 (2019) to Q2 (2020): ' + str(incease_rate)+ '%')"
      ],
      "metadata": {
        "colab": {
          "base_uri": "https://localhost:8080/"
        },
        "id": "1Si_94FCzmms",
        "outputId": "772d1e5d-62db-4746-9139-1975ffbb70cf"
      },
      "execution_count": 156,
      "outputs": [
        {
          "output_type": "stream",
          "name": "stdout",
          "text": [
            "Predicted increase in snapchat opens from Q4 (2019) to Q2 (2020): 5.08%\n"
          ]
        }
      ]
    },
    {
      "cell_type": "markdown",
      "source": [
        "**Rate of increase in snapchat users from the fourth quarter in 2019 to second quarter in 2020 (world data)**\n",
        "\n",
        "https://backlinko.com/snapchat-users"
      ],
      "metadata": {
        "id": "oM-m5r7X-zil"
      }
    },
    {
      "cell_type": "markdown",
      "source": [
        "![snap_.png](data:image/png;base64,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)"
      ],
      "metadata": {
        "id": "6giTh3aSTRyz"
      }
    },
    {
      "cell_type": "code",
      "source": [
        "increase_rate2 =  (90-86)/86\n",
        "increase_rate2 = round(increase_rate2, 2)*100 \n",
        "print('Increase in snapchat users from Q4 (2019) to Q1 (2020): ' + str(increase_rate2) + '%')"
      ],
      "metadata": {
        "colab": {
          "base_uri": "https://localhost:8080/"
        },
        "id": "Zi4mDsQd-QXu",
        "outputId": "2d0b9bd6-4d27-49fa-996e-1225b767bede"
      },
      "execution_count": 145,
      "outputs": [
        {
          "output_type": "stream",
          "name": "stdout",
          "text": [
            "Increase in snapchat users from Q4 (2019) to Q1 (2020): 5.0%\n"
          ]
        }
      ]
    },
    {
      "cell_type": "markdown",
      "source": [
        "# **Question 3**"
      ],
      "metadata": {
        "id": "kb0cHlTig8GO"
      }
    },
    {
      "cell_type": "markdown",
      "source": [
        "**Global yearly trend from 2016**"
      ],
      "metadata": {
        "id": "3MxOdOWHifxo"
      }
    },
    {
      "cell_type": "code",
      "source": [
        "x_axis = ['2016','2017','2018','2019','2020','2021']\n",
        "y_axis = [61, 75, 80, 83, 90, 95]\n",
        "\n",
        "\n",
        "percentage = ['','22%', '6%', '3.75%', '8%', '5%']\n",
        "ax = plt.bar(x_axis, y_axis)\n",
        "for x_axis, y_axis, p in zip(x_axis, y_axis, percentage):\n",
        "   plt.text(x_axis, y_axis, p)\n",
        "\n",
        "plt.bar(x_axis, y_axis)\n",
        "plt.xlabel('Year')\n",
        "plt.ylabel('Increase rate')\n",
        "\n",
        "plt.show()"
      ],
      "metadata": {
        "colab": {
          "base_uri": "https://localhost:8080/",
          "height": 279
        },
        "id": "lfZyQTSBg7qO",
        "outputId": "064a2ed9-d7b8-4790-f5a1-4c9825f9ecc8"
      },
      "execution_count": 155,
      "outputs": [
        {
          "output_type": "display_data",
          "data": {
            "text/plain": [
              "<Figure size 432x288 with 1 Axes>"
            ],
            "image/png": "[encoded data removed]"
          },
          "metadata": {
            "needs_background": "light"
          }
        }
      ]
    },
    {
      "cell_type": "markdown",
      "source": [
        "**Covid will impact engagement in the following ways:**\n",
        "\n",
        "1.\tPeople will turn to Snapchat as a way to stay connected with people face-to-face.\n",
        "\n",
        "2.\tTime spent voice and video calling will grow.\n",
        "\n",
        "3.\tGroup chat engagement will increase.\n",
        "\n",
        "4.\tThere will be an elevation in engagement of Snap features such as games, lenses, shows etc.\n",
        "\n",
        "5.\tMore snaps will be recorded indoors.\n",
        "\n",
        "6.\tAd revenue will decline."
      ],
      "metadata": {
        "id": "w61-2NIhp5oM"
      }
    },
    {
      "cell_type": "markdown",
      "source": [
        "# **Conclusion:**\n",
        "\n",
        "Based on our analysis, we were able to predict that the average daily unique users for the three countries in the **end of Q1 would be 6,955,692** and in **Q2 would be in between 7,266,711 to 7,399,984**. Our analysis revealed that the predicted increase in usage rate for the selected three countries from Q4 of 2019 to Q2 of 2020 (5.08%) was similar to the increase rate of Snapchat users globally during the same period (5.0%). This finding suggests that the usage trends in these countries were in line with the global trends, and the predictions we made using our model were reasonably accurate. However, it is important to note that this does not directly confirm the performance of our model, as there may be other factors influencing the trends that were not accounted for in our analysis. Nonetheless, this comparison provides valuable insight into how the usage of these countries compares to global trends. We were also able to determine the impact Covid had on snapchat usage after the restrictions were implimented."
      ],
      "metadata": {
        "id": "2X6AAGYzMSrK"
      }
    }
  ],
  "metadata": {
    "kernelspec": {
      "display_name": "Python 3",
      "language": "python",
      "name": "python3"
    },
    "language_info": {
      "codemirror_mode": {
        "name": "ipython",
        "version": 3
      },
      "file_extension": ".py",
      "mimetype": "text/x-python",
      "name": "python",
      "nbconvert_exporter": "python",
      "pygments_lexer": "ipython3",
      "version": "3.10.10"
    },
    "orig_nbformat": 4,
    "vscode": {
      "interpreter": {
        "hash": "5c1f741a4f83aa020b4b2a4d7353a073a4e5e4a855a3258a20da40294ddbf005"
      }
    },
    "colab": {
      "provenance": [],
      "include_colab_link": true
    }
  },
  "nbformat": 4,
  "nbformat_minor": 0
}